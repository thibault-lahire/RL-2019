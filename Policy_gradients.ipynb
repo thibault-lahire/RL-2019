{
 "cells": [
  {
   "cell_type": "markdown",
   "metadata": {
    "colab_type": "text",
    "id": "XJ_s4_nhhiyo"
   },
   "source": [
    "# Reinforcement Learning with Function Approximation"
   ]
  },
  {
   "cell_type": "code",
   "execution_count": 0,
   "metadata": {
    "colab": {},
    "colab_type": "code",
    "id": "WTOWkpoCiLmL"
   },
   "outputs": [],
   "source": [
    "!pip install torch==1.2.0 torchvision pyvirtualdisplay matplotlib seaborn pandas numpy pathlib gym\n",
    "!sudo apt-get install xvfb\n",
    "!git clone https://github.com/rlgammazero/mvarl_hands_on.git > /dev/null 2>&1\n",
    "!cd mvarl_hands_on && git pull origin master > /dev/null 2>&1"
   ]
  },
  {
   "cell_type": "code",
   "execution_count": 0,
   "metadata": {
    "colab": {},
    "colab_type": "code",
    "id": "BLUwE7tHCH06"
   },
   "outputs": [],
   "source": [
    "!apt-get install x11-utils\n",
    "from pathlib import Path\n",
    "import base64"
   ]
  },
  {
   "cell_type": "code",
   "execution_count": 0,
   "metadata": {
    "colab": {},
    "colab_type": "code",
    "id": "gCsyvh4NhjUc"
   },
   "outputs": [],
   "source": [
    "import torch\n",
    "import torch.nn as nn\n",
    "import torch.nn.functional as F\n",
    "from torch.distributions import Categorical \n",
    "from torch import optim\n",
    "\n",
    "import numpy as np\n",
    "import pandas as pd\n",
    "import seaborn as sns\n",
    "import itertools\n",
    "import math\n",
    "\n",
    "import gym\n",
    "from gym.wrappers import Monitor\n",
    "from pprint import pprint\n",
    "from pyvirtualdisplay import Display\n",
    "from IPython import display as ipythondisplay\n",
    "from IPython.display import clear_output\n",
    "\n",
    "# The following code is will be used to visualize the environments.\n",
    "\n",
    "def show_video(directory):\n",
    "    html = []\n",
    "    for mp4 in Path(directory).glob(\"*.mp4\"):\n",
    "        video_b64 = base64.b64encode(mp4.read_bytes())\n",
    "        html.append('''<video alt=\"{}\" autoplay \n",
    "                      loop controls style=\"height: 400px;\">\n",
    "                      <source src=\"data:video/mp4;base64,{}\" type=\"video/mp4\" />\n",
    "                 </video>'''.format(mp4, video_b64.decode('ascii')))\n",
    "    ipythondisplay.display(ipythondisplay.HTML(data=\"<br>\".join(html)))\n",
    "    \n",
    "display = Display(visible=0, size=(1400, 900))\n",
    "display.start();\n",
    "\n",
    "def make_seed(seed):\n",
    "    np.random.seed(seed=seed)\n",
    "    torch.manual_seed(seed=seed)"
   ]
  },
  {
   "cell_type": "markdown",
   "metadata": {
    "colab_type": "text",
    "id": "ThnSNaSMhnXa"
   },
   "source": [
    "PyTorch is a Python package that provides two high-level features:\n",
    "- Tensor computation (like NumPy) with strong GPU acceleration\n",
    "- Deep neural networks built on a tape-based autograd system\n",
    "\n",
    "At a granular level, PyTorch is a library that consists of the following components:\n",
    "\n",
    "| Component | Description |\n",
    "| ---- | --- |\n",
    "| [**torch**](https://pytorch.org/docs/stable/torch.html) | a Tensor library like NumPy, with strong GPU support |\n",
    "| [**torch.autograd**](https://pytorch.org/docs/stable/autograd.html) | a tape-based automatic differentiation library that supports all differentiable Tensor operations in torch |\n",
    "| [**torch.jit**](https://pytorch.org/docs/stable/jit.html) | a compilation stack (TorchScript) to create serializable and optimizable models from PyTorch code  |\n",
    "| [**torch.nn**](https://pytorch.org/docs/stable/nn.html) | a neural networks library deeply integrated with autograd designed for maximum flexibility |\n",
    "| [**torch.multiprocessing**](https://pytorch.org/docs/stable/multiprocessing.html) | Python multiprocessing, but with magical memory sharing of torch Tensors across processes. Useful for data loading and Hogwild training |\n",
    "| [**torch.utils**](https://pytorch.org/docs/stable/data.html) | DataLoader and other utility functions for convenience |\n",
    "\n",
    "\n",
    "**Tutorials on PyTorch:** https://pytorch.org/tutorials/\n"
   ]
  },
  {
   "cell_type": "markdown",
   "metadata": {
    "colab_type": "text",
    "id": "WlZQl9TjhuWY"
   },
   "source": [
    "## OpenAI gym\n",
    "We will consider environments provided by OpenAI gym\n",
    "This library provides a large number of environments to test RL algorithm.\n",
    "\n",
    "We will focus on the **CartPole-v1** environment in this lab but we encourage you to also test your code on:\n",
    "* **Acrobot-v1**\n",
    "* **MountainCar-v0**\n",
    "\n",
    "| Env Info          \t| CartPole-v1 \t| Acrobot-v1                \t| MountainCar-v0 \t|\n",
    "|-------------------\t|-------------\t|---------------------------\t|----------------\t|\n",
    "| **Observation Space** \t| Box(4)      \t| Box(6)                    \t| Box(2)         \t|\n",
    "| **Action Space**      \t| Discrete(2) \t| Discrete(3)               \t| Discrete(3)    \t|\n",
    "| **Rewards**           \t| 1 per step  \t| -1 if not terminal else 0 \t| -1 per step    \t|\n",
    "\n",
    "A gym environment is loaded with the command `env = gym.make(env_id)`. Once the environment is created, you need to reset it with `observation = env.reset()` and then you can interact with it using the method step: `observation, reward, done, info = env.step(action)`."
   ]
  },
  {
   "cell_type": "code",
   "execution_count": 0,
   "metadata": {
    "colab": {},
    "colab_type": "code",
    "id": "3wfHvW9Hh4H3"
   },
   "outputs": [],
   "source": [
    "# We load CartPole-v1\n",
    "env = gym.make('CartPole-v1')\n",
    "# We wrap it in order to save our experiment on a file.\n",
    "env = Monitor(env, \"./gym-results\", force=True)"
   ]
  },
  {
   "cell_type": "code",
   "execution_count": 0,
   "metadata": {
    "colab": {},
    "colab_type": "code",
    "id": "2-fFj5sDiA0C"
   },
   "outputs": [],
   "source": [
    "done = False\n",
    "obs = env.reset()\n",
    "while not done:\n",
    "    action = env.action_space.sample()\n",
    "    obs, reward, done, info = env.step(action)\n",
    "env.close()\n",
    "show_video(\"./gym-results\")"
   ]
  },
  {
   "cell_type": "markdown",
   "metadata": {
    "colab_type": "text",
    "id": "sd2xLlapilZE"
   },
   "source": [
    "## REINFORCE\n",
    "\n",
    "**Q1: Implement the REINFORCE algorithm**\n",
    "\n",
    "The code is splitted in two parts:\n",
    "* The Model class defines the architecture of our neural network which takes as input the current state and returns the policy,\n",
    "* The Agent class is responsible for the training and evaluation procedure. You will need to code the method `optimize_model`."
   ]
  },
  {
   "cell_type": "code",
   "execution_count": 0,
   "metadata": {
    "colab": {},
    "colab_type": "code",
    "id": "iwsQ8NSPiCz7"
   },
   "outputs": [],
   "source": [
    "class Model(nn.Module):\n",
    "    def __init__(self, dim_observation, n_actions):\n",
    "        super(Model, self).__init__()\n",
    "        \n",
    "        self.n_actions = n_actions\n",
    "        self.dim_observation = dim_observation\n",
    "        \n",
    "        self.net = nn.Sequential(\n",
    "            nn.Linear(in_features=self.dim_observation, out_features=16),\n",
    "            nn.ReLU(),\n",
    "            nn.Linear(in_features=16, out_features=8),\n",
    "            nn.ReLU(),\n",
    "            nn.Linear(in_features=8, out_features=self.n_actions),\n",
    "            nn.Softmax(dim=0)\n",
    "        )\n",
    "        \n",
    "    def forward(self, state):\n",
    "        return self.net(state)\n",
    "    \n",
    "    def select_action(self, state):\n",
    "        probs = self.forward(torch.tensor(state, dtype=torch.float32))\n",
    "        c = Categorical(probs)\n",
    "        action = c.sample()\n",
    "        log_proba = c.log_prob(action)\n",
    "        return action, log_proba"
   ]
  },
  {
   "cell_type": "markdown",
   "metadata": {
    "colab_type": "text",
    "id": "xrgtQMYbiwX7"
   },
   "source": [
    "Create the model based on the properties of the MDP you want to solve"
   ]
  },
  {
   "cell_type": "code",
   "execution_count": 0,
   "metadata": {
    "colab": {},
    "colab_type": "code",
    "id": "S6ieL_KJirq9"
   },
   "outputs": [],
   "source": [
    "env_id = 'CartPole-v1'\n",
    "env = gym.make(env_id)\n",
    "model = Model(env.observation_space.shape[0], env.action_space.n)\n",
    "print(f'The model we created correspond to:\\n{model}')"
   ]
  },
  {
   "cell_type": "markdown",
   "metadata": {
    "colab_type": "text",
    "id": "WwrVF9kti1e-"
   },
   "source": [
    "We provide a base agent that you will need to extend in the next cell with your implementation of `optimize_model`."
   ]
  },
  {
   "cell_type": "code",
   "execution_count": 0,
   "metadata": {
    "colab": {},
    "colab_type": "code",
    "id": "DWvKO66ii1zh"
   },
   "outputs": [],
   "source": [
    "class BaseAgent:\n",
    "    \n",
    "    def __init__(self, config):\n",
    "        self.config = config\n",
    "        self.env = gym.make(config['env_id'])\n",
    "        make_seed(config['seed'])\n",
    "        self.env.seed(config['seed'])\n",
    "        self.model = Model(self.env.observation_space.shape[0], self.env.action_space.n)\n",
    "        self.gamma = config['gamma']\n",
    "        \n",
    "        # the optimizer used by PyTorch (Stochastic Gradient, Adagrad, Adam, etc.)\n",
    "        self.optimizer = torch.optim.Adam(self.model.net.parameters(), lr=config['learning_rate'])\n",
    "        self.monitor_env = Monitor(env, \"./gym-results\", force=True, video_callable=lambda episode: True)\n",
    "    \n",
    "    # Method to implement\n",
    "    def compute_G_t(self, rewards):\n",
    "        \"\"\"Returns the cumulative discounted rewards at each time step\n",
    "\n",
    "        Parameters\n",
    "        ----------\n",
    "        rewards : array\n",
    "            The array of rewards of one episode\n",
    "\n",
    "        Returns\n",
    "        -------\n",
    "        array\n",
    "            The cumulative discounted rewards at each time step\n",
    "            \n",
    "        Example\n",
    "        -------\n",
    "        for rewards=[1, 2, 3] this method outputs [1 + 2 * gamma + 3 * gamma**2, 2 + 3 * gamma, 3] \n",
    "        \"\"\"\n",
    "        \n",
    "        N = len(rewards)\n",
    "        returns = np.zeros(N)\n",
    "        for i in range(N):\n",
    "            for j in range(i,N):\n",
    "                returns[i] += rewards[j]*(self.gamma)**(j-i)\n",
    "        return returns\n",
    "    \n",
    "    # Method to implement\n",
    "    def optimize_model(self, n_trajectories):\n",
    "        \"\"\"Perform a gradient update using n_trajectories\n",
    "\n",
    "        Parameters\n",
    "        ----------\n",
    "        n_trajectories : int\n",
    "            The number of trajectories used to approximate the expectation card(D) in the formula above\n",
    "        \n",
    "        Returns\n",
    "        -------\n",
    "        array\n",
    "            The cumulative discounted rewards of each trajectory\n",
    "        \"\"\"\n",
    "        \n",
    "        G_t = []\n",
    "        batch_log_probs = []\n",
    "        global_rewards = []\n",
    "        \n",
    "        for i in range(n_trajectories):\n",
    "            rewards = []\n",
    "            log_probs = []\n",
    "            done = False\n",
    "            observation = self.env.reset()\n",
    "            while not done:\n",
    "                action, log_proba = self.model.select_action(observation)\n",
    "                next_observation, reward, done, info = self.env.step(action.item())\n",
    "                rewards.append(reward)\n",
    "                log_probs.append(log_proba)\n",
    "                observation = next_observation\n",
    "                \n",
    "            G_t.extend(self.compute_G_t(rewards))\n",
    "            batch_log_probs.extend(log_probs)\n",
    "            global_rewards.append(sum(rewards))\n",
    "        \n",
    "        loss = torch.sum(torch.mul(torch.stack(batch_log_probs), torch.FloatTensor(G_t))).mul(-1)/(len(G_t))\n",
    "        \n",
    "        self.optimizer.zero_grad()\n",
    "        loss.backward()\n",
    "        self.optimizer.step()\n",
    "        \n",
    "        return global_rewards\n",
    "    \n",
    "    def train(self, n_trajectories, n_update):\n",
    "        \"\"\"Training method\n",
    "\n",
    "        Parameters\n",
    "        ----------\n",
    "        n_trajectories : int\n",
    "            The number of trajectories used to approximate the expected gradient\n",
    "        n_update : int\n",
    "            The number of gradient updates\n",
    "            \n",
    "        \"\"\"\n",
    "        \n",
    "        rewards = []\n",
    "        for episode in range(n_update):\n",
    "            rewards.append(self.optimize_model(n_trajectories))\n",
    "            rewards = np.asarray(rewards)\n",
    "            print(f'Episode {episode + 1}/{n_update}: rewards {round(rewards[-1].mean(), 2)} +/- {round(rewards[-1].std(), 2)}')\n",
    "            rewards = rewards.tolist()\n",
    "\n",
    "        # Plotting\n",
    "        r = pd.DataFrame((itertools.chain(*(itertools.product([i], rewards[i]) for i in range(len(rewards))))), columns=['Epoch', 'Reward'])\n",
    "        sns.lineplot(x=\"Epoch\", y=\"Reward\", data=r, ci='sd');\n",
    "        \n",
    "    def evaluate(self, render=False):\n",
    "        \"\"\"Evaluate the agent on a single trajectory            \n",
    "        \"\"\"\n",
    "        with torch.no_grad():\n",
    "            observation = self.monitor_env.reset()\n",
    "            observation = torch.tensor(observation, dtype=torch.float)\n",
    "            reward_episode = 0\n",
    "            done = False\n",
    "                \n",
    "            while not done:\n",
    "                action, _ = self.model.select_action(observation)\n",
    "                observation, reward, done, info = self.monitor_env.step(int(action))\n",
    "                observation = torch.tensor(observation, dtype=torch.float)\n",
    "                reward_episode += reward\n",
    "            \n",
    "            self.monitor_env.close()\n",
    "            if render:\n",
    "                show_video(\"./gym-results\")\n",
    "                print(f'Reward: {reward_episode}')\n",
    "            print(f'Reward: {reward_episode}')"
   ]
  },
  {
   "cell_type": "code",
   "execution_count": 0,
   "metadata": {
    "colab": {},
    "colab_type": "code",
    "id": "vZAo0K8VjCYj"
   },
   "outputs": [],
   "source": [
    "env_id = 'CartPole-v1'\n",
    "learning_rate = 0.01\n",
    "gamma = 1 \n",
    "seed = 1235\n",
    "\n",
    "config = {\n",
    "    'env_id': env_id,\n",
    "    'learning_rate': learning_rate,\n",
    "    'seed': seed,\n",
    "    'gamma': gamma\n",
    "}\n",
    "\n",
    "print(\"Current config is:\")\n",
    "pprint(config)\n"
   ]
  },
  {
   "cell_type": "code",
   "execution_count": 0,
   "metadata": {
    "colab": {},
    "colab_type": "code",
    "id": "D4Ag7E3qjJas"
   },
   "outputs": [],
   "source": [
    "agent = BaseAgent(config)\n",
    "agent.train(n_trajectories=50, n_update=70)"
   ]
  },
  {
   "cell_type": "markdown",
   "metadata": {
    "colab_type": "text",
    "id": "q3_dvBl8jUc3"
   },
   "source": [
    "Evaluate the agent over multiple episodes"
   ]
  },
  {
   "cell_type": "code",
   "execution_count": 0,
   "metadata": {
    "colab": {},
    "colab_type": "code",
    "id": "aPyqbIiCjO_-"
   },
   "outputs": [],
   "source": [
    "agent.evaluate(True)"
   ]
  },
  {
   "cell_type": "markdown",
   "metadata": {
    "colab_type": "text",
    "id": "LHM2_CRFkNoA"
   },
   "source": [
    "## Policy Evaluation as Supervised Learning\n",
    "\n",
    "**Q2: Implement batched gradient algorithm**\n",
    "\n",
    "Define network for Q-function (ValueNetwork) and policy (ActorNetwork)\n"
   ]
  },
  {
   "cell_type": "code",
   "execution_count": 0,
   "metadata": {
    "colab": {},
    "colab_type": "code",
    "id": "W9sxcz_eKF1M"
   },
   "outputs": [],
   "source": [
    "class ValueNetwork(nn.Module):\n",
    "\n",
    "    def __init__(self, input_size, hidden_size, output_size):\n",
    "        super(ValueNetwork, self).__init__()\n",
    "        self.fc1 = nn.Linear(input_size, hidden_size)\n",
    "        self.fc2 = nn.Linear(hidden_size, hidden_size)\n",
    "        self.fc3 = nn.Linear(hidden_size, output_size)\n",
    "\n",
    "    def forward(self, x):\n",
    "        out = F.relu(self.fc1(x))\n",
    "        out = F.relu(self.fc2(out))\n",
    "        out = self.fc3(out)\n",
    "        return out\n",
    "    \n",
    "    def predict(self, x):\n",
    "        return self(x).detach().numpy()[0]"
   ]
  },
  {
   "cell_type": "code",
   "execution_count": 0,
   "metadata": {
    "colab": {},
    "colab_type": "code",
    "id": "1GKxKzs5khxM"
   },
   "outputs": [],
   "source": [
    "class ActorNetwork(nn.Module):\n",
    "\n",
    "    def __init__(self, input_size, hidden_size, action_size):\n",
    "        super(ActorNetwork, self).__init__()\n",
    "        self.fc1 = nn.Linear(input_size, hidden_size)\n",
    "        self.fc2 = nn.Linear(hidden_size, hidden_size)\n",
    "        self.fc3 = nn.Linear(hidden_size, action_size)\n",
    "\n",
    "    def forward(self, x):\n",
    "        out = F.relu(self.fc1(x))\n",
    "        out = F.relu(self.fc2(out))\n",
    "        out = F.softmax(self.fc3(out), dim=-1)\n",
    "        return out\n",
    "    \n",
    "    def select_action(self, x):\n",
    "        input_ = torch.FloatTensor(x).reshape([1, 4])\n",
    "        output = self.forward(input_)\n",
    "        c = Categorical(output)\n",
    "        action = c.sample()\n",
    "        log_proba = c.log_prob(action)\n",
    "        return action, log_proba"
   ]
  },
  {
   "cell_type": "markdown",
   "metadata": {
    "colab_type": "text",
    "id": "aBpNVkaAKLQz"
   },
   "source": [
    "Implement your (batched) gradient algorithm\n",
    "\n"
   ]
  },
  {
   "cell_type": "code",
   "execution_count": 0,
   "metadata": {
    "colab": {},
    "colab_type": "code",
    "id": "QQ4Wu5B5KIIO"
   },
   "outputs": [],
   "source": [
    "class EvalAgent:\n",
    "\n",
    "    def __init__(self, config, policy):\n",
    "        self.config = config\n",
    "        self.env = gym.make(config['env_id'])\n",
    "        make_seed(config['seed'])\n",
    "        self.env.seed(config['seed'])\n",
    "        self.monitor_env = Monitor(self.env, \"./gym-results\", force=True, video_callable=lambda episode: True)\n",
    "        self.gamma = config['gamma']\n",
    "        self.policy = policy\n",
    "\n",
    "        # Our network\n",
    "        self.value_network = ValueNetwork(self.env.observation_space.shape[0], 16, 1)\n",
    "\n",
    "        # optimizers\n",
    "        self.value_network_optimizer = optim.RMSprop(self.value_network.parameters(), \n",
    "                                                   lr=config['value_network']['learning_rate'])\n",
    "\n",
    "\n",
    "    def optimize_model(self, observations, returns, next_observations, batch_dones):\n",
    "        # value fonction for each state in the array next_observations. Here we compute $V(s_{t+1})$\n",
    "        V_s_t_plus_1 = self.value_network.forward(torch.FloatTensor(next_observations)).detach()\n",
    "        # The value function of a terminal state is zero\n",
    "        for i in range(len(batch_dones)):\n",
    "            if batch_dones[i] == True:\n",
    "                V_s_t_plus_1[i] = 0\n",
    "        # Now we compute $r_t + \\gamma V(s_{t+1})$\n",
    "        r_t_plus_gamma_V_s_t_plus_1 = torch.FloatTensor(returns).reshape(-1, 1) + self.gamma * V_s_t_plus_1\n",
    "        # We now compute $V(s_t)$\n",
    "        V_s_t = self.value_network.forward(torch.FloatTensor(observations))\n",
    "        # The MSE loss corresponds to $(r_t + \\gamma V(s_{t+1}) - V(s_t))^2$ for each t, i.e. for each state s_t visited\n",
    "        critic_loss = F.mse_loss(V_s_t, r_t_plus_gamma_V_s_t_plus_1)\n",
    "        # We train the critic\n",
    "        self.value_network_optimizer.zero_grad()\n",
    "        critic_loss.backward()\n",
    "        self.value_network_optimizer.step()\n",
    "\n",
    "    \n",
    "    def training_batch(self, epochs, batch_size):\n",
    "        \n",
    "        mse_test = []\n",
    "\n",
    "        for epoch in range(epochs):\n",
    "            \n",
    "            batch_observations, batch_next_observations, batch_returns, batch_dones = [], [], [], []\n",
    "\n",
    "            for i in range(batch_size):\n",
    "                \n",
    "                observations, next_observations, returns, dones = [], [], [], []\n",
    "                \n",
    "                observation = self.env.reset()\n",
    "                done = False\n",
    "                while not done:\n",
    "                    observation_tensor = torch.FloatTensor(observation).reshape([1, 4])\n",
    "                    action = self.policy.select_action(observation_tensor)[0][0].item()\n",
    "                    next_observation, reward, done, info = self.env.step(action)\n",
    "                                        \n",
    "                    observations.append(observation)\n",
    "                    next_observations.append(next_observation)\n",
    "                    dones.append(done)\n",
    "                    returns.append(reward)\n",
    "\n",
    "                    observation = next_observation\n",
    "                        \n",
    "                batch_observations.extend(observations)\n",
    "                batch_next_observations.extend(next_observations)\n",
    "                batch_returns.extend(returns)\n",
    "                batch_dones.extend(dones)\n",
    "                \n",
    "            self.optimize_model(batch_observations, batch_returns, batch_next_observations, batch_dones)\n",
    "\n",
    "            # Test it every 50 epochs\n",
    "            if epoch % 25 == 0 or epoch == epochs - 1:\n",
    "                L = []\n",
    "                for _ in range(10):\n",
    "                    obs_states, y_mc = self.evaluate()\n",
    "                    obs_states_tensor = torch.FloatTensor(obs_states).detach()\n",
    "                    y_mc = torch.FloatTensor(y_mc)\n",
    "                    y_hat = self.value_network.forward(obs_states_tensor).detach()\n",
    "                    err = y_mc - y_hat\n",
    "                    err = err.numpy()\n",
    "                    mse = np.mean(err**2)\n",
    "                    L.append(mse.item())\n",
    "                mse_test.append(L)\n",
    "                print(f'Epoch {epoch}/{epochs}: MSE: {np.mean(mse)}')\n",
    "\n",
    "                observation = self.env.reset()\n",
    "\n",
    "        # Plotting\n",
    "        r = pd.DataFrame((itertools.chain(*(itertools.product([i], mse_test[i]) for i in range(len(mse_test))))), columns=['Epoch', 'MSE'])\n",
    "        sns.lineplot(x=\"Epoch\", y=\"MSE\", data=r, ci='sd');\n",
    "\n",
    "\n",
    "    def evaluate(self, render=False):\n",
    "        \"\"\"Returns the observations and the estimated V-function (using first visit Monte-Carlo)\n",
    "\n",
    "        Parameters\n",
    "        ----------\n",
    "        rewards : array\n",
    "            An array of shape (batch_size,) containing the rewards given by the env\n",
    "        dones : array\n",
    "            An array of shape (batch_size,) containing the done bool indicator given by the env\n",
    "        values : array\n",
    "            An array of shape (batch_size,) containing the values given by the value network\n",
    "        next_value : float\n",
    "            The value of the next state given by the value network\n",
    "\n",
    "        Returns\n",
    "        -------\n",
    "        states : array\n",
    "            Observations\n",
    "        returns : array\n",
    "            The estimate value function of each state\n",
    "        \"\"\"\n",
    "        env = self.monitor_env if render else self.env\n",
    "        observation = env.reset()\n",
    "        states = [observation.copy()]\n",
    "        rewards= []\n",
    "        observation = torch.tensor(observation, dtype=torch.float)\n",
    "        done = False\n",
    "        steps = 0\n",
    "\n",
    "        while not done:\n",
    "            action = self.policy.select_action(observation)[0]\n",
    "            observation, reward, done, info = env.step(int(action))\n",
    "            for i in range(steps):\n",
    "                rewards[i] = rewards[i] + math.pow(self.gamma, steps-i)*reward\n",
    "            rewards.append(reward)\n",
    "            if not done:\n",
    "                states.append(observation.copy())\n",
    "            observation = torch.tensor(observation, dtype=torch.float)\n",
    "            steps += 1\n",
    "\n",
    "        env.close()\n",
    "        if render:\n",
    "            show_video(\"./gym-results\")\n",
    "            print(f'Reward: {reward_episode}')\n",
    "        states = np.array(states).reshape(-1, self.env.observation_space.shape[0])\n",
    "        returns = np.array(rewards).reshape(-1,1)\n",
    "        return states, returns"
   ]
  },
  {
   "cell_type": "markdown",
   "metadata": {
    "colab_type": "text",
    "id": "IY1VIUHLNKn3"
   },
   "source": [
    "Define configuration"
   ]
  },
  {
   "cell_type": "code",
   "execution_count": 0,
   "metadata": {
    "colab": {},
    "colab_type": "code",
    "id": "Fvc-7jXDNNkG"
   },
   "outputs": [],
   "source": [
    "env_id = 'CartPole-v1'\n",
    "value_learning_rate = 0.001\n",
    "gamma = 0.99\n",
    "seed = 1\n",
    "\n",
    "config_td = {\n",
    "    'env_id': env_id,\n",
    "    'gamma': gamma,\n",
    "    'seed': seed,\n",
    "    'value_network': {'learning_rate': value_learning_rate, 'reference': './CartPole_value.pt'}\n",
    "}\n",
    "\n",
    "print(\"Current config_td is:\")\n",
    "pprint(config_td)\n"
   ]
  },
  {
   "cell_type": "markdown",
   "metadata": {
    "colab_type": "text",
    "id": "d2lRnaF3NPyy"
   },
   "source": [
    "Create policy"
   ]
  },
  {
   "cell_type": "code",
   "execution_count": 0,
   "metadata": {
    "colab": {},
    "colab_type": "code",
    "id": "NkbHK_lXNShg"
   },
   "outputs": [],
   "source": [
    "env = gym.make(config_td['env_id'])\n",
    "policy = ActorNetwork(env.observation_space.shape[0], 16, env.action_space.n)\n",
    "policy.load_state_dict(torch.load('./mvarl_hands_on/data/CartPole_actor.pt'))\n",
    "state = torch.tensor(np.array(env.reset(), dtype=np.float32))\n",
    "print(\"pi(state) = \", policy.select_action(state))\n",
    "del env"
   ]
  },
  {
   "cell_type": "markdown",
   "metadata": {
    "colab_type": "text",
    "id": "Y51M4EgtNU7Z"
   },
   "source": [
    "Run agent"
   ]
  },
  {
   "cell_type": "code",
   "execution_count": 0,
   "metadata": {
    "colab": {},
    "colab_type": "code",
    "id": "4PFvnYLnNGvX"
   },
   "outputs": [],
   "source": [
    "agent = EvalAgent(config=config_td, policy=policy)\n",
    "agent.training_batch(epochs=1000, batch_size=2)"
   ]
  },
  {
   "cell_type": "markdown",
   "metadata": {
    "colab_type": "text",
    "id": "03as0wkuja2A"
   },
   "source": [
    "## Advantage Actor Critic (A2C)\n",
    "**Q3: Implement the A2C method**\n",
    "\n",
    "As usual we provide a structure you can use as starting point.\n",
    "\n",
    "\n",
    "\n",
    "**Note:** try to reuse previous parts of previous code.\n",
    "\n"
   ]
  },
  {
   "cell_type": "code",
   "execution_count": 0,
   "metadata": {
    "colab": {},
    "colab_type": "code",
    "id": "G4EmYpAsjhKh"
   },
   "outputs": [],
   "source": [
    "class A2CAgent:\n",
    "\n",
    "    def __init__(self, config):\n",
    "        self.config = config\n",
    "        self.env = gym.make(config['env_id'])\n",
    "        make_seed(config['seed'])\n",
    "        self.env.seed(config['seed'])\n",
    "        self.monitor_env = Monitor(self.env, \"./gym-results\", force=True, video_callable=lambda episode: True)\n",
    "        self.gamma = config['gamma']\n",
    "        \n",
    "        # Our two networks\n",
    "        self.value_network = ValueNetwork(self.env.observation_space.shape[0], 16, 1)\n",
    "        self.actor_network = ActorNetwork(self.env.observation_space.shape[0], 16, self.env.action_space.n)\n",
    "        \n",
    "        # Their optimizers\n",
    "        self.value_network_optimizer = optim.RMSprop(self.value_network.parameters(), lr=config['value_network']['learning_rate'])\n",
    "        self.actor_network_optimizer = optim.RMSprop(self.actor_network.parameters(), lr=config['actor_network']['learning_rate'])\n",
    "        \n",
    "\n",
    "\n",
    "\n",
    "    def optimize_model(self, observations, actions, returns, next_observations, log_probs, dones):\n",
    "        # value fonction for each state in the array next_observations. Here we compute $V(s_{t+1})$\n",
    "        V_s_t_plus_1 = self.value_network.forward(torch.FloatTensor(next_observations)).detach()\n",
    "        # The value function of a terminal state is zero\n",
    "        for i in range(len(dones)):\n",
    "            if dones[i]==True:\n",
    "                V_s_t_plus_1[i] = 0\n",
    "        # Now we compute $r_t + \\gamma V(s_{t+1})$\n",
    "        r_t_plus_gamma_V_s_t_plus_1 = torch.FloatTensor(returns).reshape(-1, 1) + self.gamma * V_s_t_plus_1\n",
    "        # Here we compute $V(s_t)$\n",
    "        V_s_t = self.value_network.forward(torch.FloatTensor(observations))\n",
    "        # The MSE loss corresponds to $(r_t + \\gamma V(s_{t+1}) - V(s_t))^2$ for each t, i.e. for each state s_t visited\n",
    "        critic_loss = F.mse_loss(V_s_t, r_t_plus_gamma_V_s_t_plus_1)\n",
    "        # We train the critic\n",
    "        self.value_network_optimizer.zero_grad()\n",
    "        critic_loss.backward()\n",
    "        self.value_network_optimizer.step()\n",
    "        \n",
    "        # Now we train the actor\n",
    "        # We compute $\\delta_t = r_t + \\gamma V(s_{t+1}) - V(s_t)$\n",
    "        advantage = (r_t_plus_gamma_V_s_t_plus_1 - V_s_t.detach())\n",
    "        # The loss for the actor is defined as $\\sum \\delta_t \\log \\pi_{\\theta}(a_t, s_t)$ \n",
    "        actor_loss = torch.sum(torch.mul(torch.stack(log_probs), advantage)).mul(-1)/(advantage.shape[0])\n",
    "        # optimization step for the actor\n",
    "        self.actor_network_optimizer.zero_grad()\n",
    "        actor_loss.backward()\n",
    "        self.actor_network_optimizer.step()\n",
    "        \n",
    "        \n",
    "        \n",
    "        \n",
    "    def training_batch(self, epochs, batch_size):\n",
    "        \n",
    "        returns_test = []\n",
    "        \n",
    "        for epoch in range(epochs):\n",
    "            \n",
    "            batch_observations, batch_next_observations, batch_actions, batch_returns, batch_log_probs, batch_dones = [], [], [], [], [], []\n",
    "             \n",
    "            for i in range(batch_size):\n",
    "                \n",
    "                observations, next_observations, actions, returns, log_probs, dones = [], [], [], [], [], []\n",
    "                \n",
    "                observation = self.env.reset()\n",
    "                done = False\n",
    "                while not done:\n",
    "                    action, log_proba = self.actor_network.select_action(observation)\n",
    "                    next_observation, reward, done, info = self.env.step(action.item())\n",
    "                    \n",
    "                    observations.append(observation)\n",
    "                    next_observations.append(next_observation)\n",
    "                    actions.append(action)\n",
    "                    dones.append(done)\n",
    "                    returns.append(reward)\n",
    "                    log_probs.append(log_proba)\n",
    "                    \n",
    "                    observation = next_observation\n",
    "                        \n",
    "                batch_observations.extend(observations)\n",
    "                batch_next_observations.extend(next_observations)\n",
    "                batch_actions.extend(actions)\n",
    "                batch_returns.extend(returns)\n",
    "                batch_log_probs.extend(log_probs)\n",
    "                batch_dones.extend(dones)\n",
    "\n",
    "            self.optimize_model(batch_observations, batch_actions, batch_returns, batch_next_observations, batch_log_probs, batch_dones)\n",
    "        \n",
    "        \n",
    "            # Test it every 50 epochs\n",
    "            if epoch % 50 == 0 or epoch == epochs - 1:\n",
    "                returns_test.append(np.array([self.evaluate() for _ in range(50)]))\n",
    "                print(f'Epoch {epoch}/{epochs}: Mean returns: {round(returns_test[-1].mean(), 2)}, Std: {round(returns_test[-1].std(), 2)}')\n",
    "\n",
    "                # Early stopping\n",
    "                if returns_test[-1].mean() > 490 and epoch != epochs -1:\n",
    "                    print('Early stopping !')\n",
    "                    break\n",
    "                observation = self.env.reset()\n",
    "                    \n",
    "        # Plotting\n",
    "        r = pd.DataFrame((itertools.chain(*(itertools.product([i], returns_test[i]) for i in range(len(returns_test))))), columns=['Epoch', 'Reward'])\n",
    "        sns.lineplot(x=\"Epoch\", y=\"Reward\", data=r, ci='sd');\n",
    "       \n",
    "        \n",
    "        \n",
    "    def evaluate(self, render=False):\n",
    "        env = self.monitor_env if render else self.env\n",
    "        observation = env.reset()\n",
    "        observation = torch.tensor(observation, dtype=torch.float)\n",
    "        reward_episode = 0\n",
    "        done = False\n",
    "\n",
    "        while not done:\n",
    "            action, _ = self.actor_network.select_action(observation)\n",
    "            observation, reward, done, info = env.step(int(action))\n",
    "            observation = torch.tensor(observation, dtype=torch.float)\n",
    "            reward_episode += reward\n",
    "            \n",
    "        env.close()\n",
    "        if render:\n",
    "            show_video(\"./gym-results\")\n",
    "            print(f'Reward: {reward_episode}')\n",
    "        return reward_episode\n",
    "\n",
    "\n",
    " "
   ]
  },
  {
   "cell_type": "markdown",
   "metadata": {
    "colab_type": "text",
    "id": "8sEwrInsjkDH"
   },
   "source": [
    "Create configuration for A2C"
   ]
  },
  {
   "cell_type": "code",
   "execution_count": 0,
   "metadata": {
    "colab": {},
    "colab_type": "code",
    "id": "OwDDx78wjmG5"
   },
   "outputs": [],
   "source": [
    "env_id = 'CartPole-v1'\n",
    "value_learning_rate = 0.01\n",
    "actor_learning_rate = 0.01\n",
    "gamma = 0.99\n",
    "entropy = 1\n",
    "seed = 1\n",
    "\n",
    "config_a2c = {\n",
    "    'env_id': env_id,\n",
    "    'gamma': gamma,\n",
    "    'seed': seed,\n",
    "    'value_network': {'learning_rate': value_learning_rate},\n",
    "    'actor_network': {'learning_rate': actor_learning_rate},\n",
    "    'entropy': entropy\n",
    "}\n",
    "\n",
    "print(\"Current config_a2c is:\")\n",
    "pprint(config_a2c)"
   ]
  },
  {
   "cell_type": "markdown",
   "metadata": {
    "colab_type": "text",
    "id": "6xW7fe-8jvzY"
   },
   "source": [
    "Run the learning agent"
   ]
  },
  {
   "cell_type": "code",
   "execution_count": 0,
   "metadata": {
    "colab": {},
    "colab_type": "code",
    "id": "UrZRJ7-yjryp"
   },
   "outputs": [],
   "source": [
    "agent = A2CAgent(config_a2c)\n",
    "rewards = agent.training_batch(1000, 2)"
   ]
  },
  {
   "cell_type": "markdown",
   "metadata": {
    "colab_type": "text",
    "id": "NzuNtPqTju64"
   },
   "source": [
    "Evaluate the agent over multiple episodes"
   ]
  },
  {
   "cell_type": "code",
   "execution_count": 0,
   "metadata": {
    "colab": {},
    "colab_type": "code",
    "id": "bw279M4Jj1y-"
   },
   "outputs": [],
   "source": [
    "agent.evaluate(True)"
   ]
  }
 ],
 "metadata": {
  "colab": {
   "collapsed_sections": [],
   "name": "MVARL19_part2_LAHIRE.ipynb",
   "private_outputs": true,
   "provenance": [],
   "toc_visible": true
  },
  "kernelspec": {
   "display_name": "Python 3",
   "language": "python",
   "name": "python3"
  },
  "language_info": {
   "codemirror_mode": {
    "name": "ipython",
    "version": 3
   },
   "file_extension": ".py",
   "mimetype": "text/x-python",
   "name": "python",
   "nbconvert_exporter": "python",
   "pygments_lexer": "ipython3",
   "version": "3.7.3"
  }
 },
 "nbformat": 4,
 "nbformat_minor": 1
}

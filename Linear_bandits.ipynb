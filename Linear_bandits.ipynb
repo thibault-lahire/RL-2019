{
 "cells": [
  {
   "cell_type": "markdown",
   "metadata": {
    "colab_type": "text",
    "id": "rly7ZGiyUKJ6"
   },
   "source": [
    "# Exploration in Linear Bandits\n",
    "\n",
    "The objective of this part is to implement and compare the following strategies for linear bandits:\n",
    "\n",
    "[Optimism in the Face of Uncertainty (OFUL)](https://papers.nips.cc/paper/4417-improved-algorithms-for-linear-stochastic-bandits.pdf)\n",
    "\n",
    "[Thompson Sampling](https://projecteuclid.org/euclid.ejs/1513306870)"
   ]
  },
  {
   "cell_type": "markdown",
   "metadata": {
    "colab_type": "text",
    "id": "infCxpaRA0XC"
   },
   "source": [
    "## Linear bandit\n",
    "We consider the standard linear bandit setting. At each time $t$, the agent selects an arm $a_t \\in A$ and observes a reward\n",
    "$$\n",
    "r_{a}^t = \\langle \\theta^\\star, \\phi_a^t \\rangle + \\eta_a^t := \\mu_a^t + \\eta_a^t\n",
    "$$\n",
    "where $\\theta^{\\star} \\in \\mathbb{R}^{d}$ is a parameter vector, $\\phi_{a}^t \\in \\mathbb{R}^{d} $ are the features of arm $a$ at time $t$, and $\\eta_{a}^{t}$ is a zero-mean  $\\sigma^2$-subgaussian noise. \n",
    "\n",
    "When the features correspond to the canonical basis, this formulation reduces to multi-armed bandit (MAB) with $d$ arms. In the more general case, the features may depend on a context $x_t$, so that $\\phi_a^t = \\phi(x_t, a)$ denotes the feature vector of a context-action pair $(x_t, a)$ and the resulting setting is the so-called linear contextual bandit.\n",
    "\n",
    "We rely on the following standard assumption on the features and the unknown parameter $\\theta^\\star$.\n",
    "\n",
    "**Assumption.** There exist $B,D \\geq 0$, such that $\\|\\theta^\\star\\|_2 \\leq B$, $\\|\\phi_a^t\\| \\leq D$, and $\\langle \\theta^\\star, \\phi_a^t \\rangle \\in [0,1]$, for all $t$ and $a$.\n",
    "\n",
    "Given a finite horizon $n$, the performance of the agent is measured by its (pseudo)-\\emph{regret}:\n",
    "$$\n",
    "        %R(n) = n \\mu^{\\star} - \\sum_{t=1}^n \\mu_{a_t} = \\sum_{i=1}^K T_i(n) \\Delta_i, \n",
    "        R(n) = \\sum_{t=1}^n \\langle \\theta^\\star, \\phi_{a^\\star}^t \\rangle - \\langle \\theta^\\star, \\phi_{a_t}^t \\rangle ,\n",
    "$$\n",
    "where $a^{\\star}_{t} \\in \\arg\\max_{a} \\langle \\theta^\\star, \\phi_{a}^t \\rangle$ is the optimal action at time $t$.\n",
    "\n",
    "**We consider the simple linear bandit setting:** $\\phi_a^t = \\phi_a, \\; \\forall t$\n",
    "\n",
    "\n"
   ]
  },
  {
   "cell_type": "code",
   "execution_count": 52,
   "metadata": {
    "colab": {},
    "colab_type": "code",
    "id": "SlwPdLAwUWfI"
   },
   "outputs": [
    {
     "name": "stdout",
     "output_type": "stream",
     "text": [
      "Cloning into 'mvarl_hands_on'...\n",
      "remote: Enumerating objects: 39, done.\u001b[K\n",
      "remote: Counting objects: 100% (39/39), done.\u001b[K\n",
      "remote: Compressing objects: 100% (27/27), done.\u001b[K\n",
      "remote: Total 39 (delta 14), reused 37 (delta 12), pack-reused 0\u001b[K\n",
      "\u001b[KUnpacking objects: 100% (39/39), done.\n",
      "cliffwalk.py      discretization.py frozen_lake.py    test_env.py\n",
      "coldstart.py      finite_env.py     gridworld.py\n"
     ]
    }
   ],
   "source": [
    "!rm -rf mvarl_hands_on/\n",
    "!git clone https://github.com/rlgammazero/mvarl_hands_on.git\n",
    "!cd mvarl_hands_on/ && git fetch\n",
    "!ls mvarl_hands_on/utils"
   ]
  },
  {
   "cell_type": "code",
   "execution_count": 53,
   "metadata": {
    "colab": {},
    "colab_type": "code",
    "id": "wWQOcbHbUKJ8"
   },
   "outputs": [],
   "source": [
    "import sys\n",
    "sys.path.insert(0, './mvarl_hands_on/utils')\n",
    "import os\n",
    "import numpy as np\n",
    "from pprint import pprint\n",
    "from coldstart import ColdStartFromDataset\n",
    "from scipy.sparse.linalg import svds\n",
    "import matplotlib.pyplot as plt\n",
    "from scipy.stats import multivariate_normal\n",
    "import math\n",
    "from tqdm import tqdm"
   ]
  },
  {
   "cell_type": "markdown",
   "metadata": {
    "colab_type": "text",
    "id": "78oy9izEUKKA"
   },
   "source": [
    "#### Jester Jokes Dataset (Dense subset of 40 jokes)\n",
    "\n",
    "Deep Bayesian Bandits Showdown: An Empirical Comparison of Bayesian Deep Networks for Thompson Sampling\n",
    "\n",
    "Download the data at: https://storage.googleapis.com/bandits_datasets/jester_data_40jokes_19181users.npy\n",
    "\n",
    "We performed a matrix factorization of the ratings (after filtering over users and jokes). This provides features for the arms and users, the reward (ie rating) is the dot product between the arm and user features (we make it stochastic by adding Gaussian noise). We consider a cold start problem where the user is randomly selected at the beginning of the repetition and the agent has to learn the best arm to recommend. When an arm is selected by the algorithm, its reward is computed as the dot product between the arm and user features."
   ]
  },
  {
   "cell_type": "code",
   "execution_count": 54,
   "metadata": {
    "colab": {},
    "colab_type": "code",
    "id": "HW1YAyl1UKKB"
   },
   "outputs": [
    {
     "name": "stdout",
     "output_type": "stream",
     "text": [
      "--2020-01-06 10:01:57--  https://storage.googleapis.com/bandits_datasets/jester_data_40jokes_19181users.npy\n",
      "Resolving storage.googleapis.com... 216.58.215.48, 2a00:1450:4007:808::2010\n",
      "Connecting to storage.googleapis.com|216.58.215.48|:443... connected.\n",
      "HTTP request sent, awaiting response... 200 OK\n",
      "Length: 6138000 (5.9M) [application/octet-stream]\n",
      "Saving to: 'jester_data_40jokes_19181users.npy.4'\n",
      "\n",
      "jester_data_40jokes 100%[===================>]   5.85M  2.59MB/s    in 2.3s    \n",
      "\n",
      "2020-01-06 10:02:00 (2.59 MB/s) - 'jester_data_40jokes_19181users.npy.4' saved [6138000/6138000]\n",
      "\n"
     ]
    }
   ],
   "source": [
    "!wget https://storage.googleapis.com/bandits_datasets/jester_data_40jokes_19181users.npy"
   ]
  },
  {
   "cell_type": "code",
   "execution_count": 77,
   "metadata": {
    "colab": {},
    "colab_type": "code",
    "id": "7ZsqokZKUKKD"
   },
   "outputs": [
    {
     "name": "stdout",
     "output_type": "stream",
     "text": [
      "U: (19181, 35)\n",
      "Vt: (35, 40)\n",
      "#features: 35\n",
      "#arms: 40\n"
     ]
    }
   ],
   "source": [
    "M = np.load('jester_data_40jokes_19181users.npy')\n",
    "M = M / 10\n",
    "K = 35\n",
    "U, s, Vt = svds(M, k = K)\n",
    "s=np.diag(s)\n",
    "U = np.dot(U,s)\n",
    "print('U: {}'.format(U.shape))\n",
    "print('Vt: {}'.format(Vt.shape))\n",
    "print('#features: {}'.format(Vt.shape[0]))\n",
    "print('#arms: {}'.format(Vt.shape[1]))\n",
    "np.savetxt('U_jester.csv', U, delimiter=',') \n",
    "np.savetxt('Vt_jester.csv', Vt, delimiter=',') "
   ]
  },
  {
   "cell_type": "markdown",
   "metadata": {
    "colab_type": "text",
    "id": "VmQdkpc-UKKF"
   },
   "source": [
    "Create the coldstart model"
   ]
  },
  {
   "cell_type": "code",
   "execution_count": 78,
   "metadata": {
    "colab": {},
    "colab_type": "code",
    "id": "fDXGgf-HUKKF"
   },
   "outputs": [
    {
     "name": "stdout",
     "output_type": "stream",
     "text": [
      "Current config is:\n",
      "{'arm_csvfile': '/Users/macbookthibaultlahire/Documents/THIBAULT/MVA/Reinforcement '\n",
      "                'Learning/HW2/Vt_jester.csv',\n",
      " 'noise_std': 0.1,\n",
      " 'random_state': 1235,\n",
      " 'user_csvfile': '/Users/macbookthibaultlahire/Documents/THIBAULT/MVA/Reinforcement '\n",
      "                 'Learning/HW2/U_jester.csv',\n",
      " 'user_subset': [0, 44, 88, 133, 177, 222, 266, 311, 355, 400]}\n"
     ]
    }
   ],
   "source": [
    "seed = 1235\n",
    "user_subset = np.linspace(0, 400, 10).astype(int).tolist()\n",
    "arm_csvfile = os.path.abspath('Vt_jester.csv')\n",
    "user_csvfile = os.path.abspath('U_jester.csv')\n",
    "noise_std = 0.1\n",
    "\n",
    "config_cs = {\n",
    "    'arm_csvfile': arm_csvfile,\n",
    "    'user_csvfile': user_csvfile,\n",
    "    'random_state': seed,\n",
    "    'user_subset': user_subset,\n",
    "    'noise_std': noise_std\n",
    "}\n",
    "\n",
    "print(\"Current config is:\")\n",
    "pprint(config_cs)\n"
   ]
  },
  {
   "cell_type": "code",
   "execution_count": 79,
   "metadata": {
    "colab": {},
    "colab_type": "code",
    "id": "cjPeT4LLUKKH"
   },
   "outputs": [
    {
     "name": "stdout",
     "output_type": "stream",
     "text": [
      "\n",
      "The new user arriving to the system is user # 311\n",
      "\n",
      "Theta*:  [-2.05731720e-01 -9.45157719e-01  9.50761332e-01 -1.48720528e-02\n",
      "  1.76227226e-01 -6.95983198e-01  6.39863132e-01 -1.64450643e-03\n",
      " -1.08638553e-01  9.09231305e-01  8.63061011e-01 -2.17325440e-02\n",
      " -3.87783826e-01 -4.41767546e-01  5.06214560e-02 -5.61302896e-01\n",
      "  1.26926842e-01 -1.45078756e-02 -1.30910533e-01  8.39172840e-01\n",
      " -4.60797788e-02 -4.39751439e-01 -9.43671932e-01 -1.72604133e+00\n",
      " -4.55566477e-01  1.68812233e-02  4.42198404e-02  8.51523188e-01\n",
      "  8.22963549e-01 -3.19290590e-01 -1.16922306e+00  1.82183628e+00\n",
      "  1.05241405e+00  1.47024897e-01  9.67396289e-01]\n",
      "\n",
      "Features:  (40, 35)\n",
      "\n",
      "Means:  [0.47568973 0.22610898 0.90761638 0.82336161 0.76435307 0.26546461\n",
      " 0.22117241 0.3152374  0.13810922 1.         0.69295802 0.97246014\n",
      " 0.25034471 0.18352382 0.85997635 0.2307719  0.84371419 0.9832823\n",
      " 0.17995533 0.89900143 0.83450034 0.26055666 0.76369083 0.6721658\n",
      " 0.29845689 0.30426726 0.16228881 0.26092709 0.6385817  0.\n",
      " 0.58778865 0.12533494 0.80156241 0.24880048 0.32325669 0.80675611\n",
      " 0.71074013 0.73888604 0.46384277 0.79528457]\n",
      "\n",
      "Theta bound:  4.27550198183295\n"
     ]
    }
   ],
   "source": [
    "noise = 0.2\n",
    "random_state = 312\n",
    "model = ColdStartFromDataset(**config_cs)\n",
    "print(\"\\nThe new user arriving to the system is user #\", model.theta_idx)\n",
    "print(\"\\nTheta*: \", model.theta)\n",
    "print(\"\\nFeatures: \", model.features.shape)\n",
    "means = np.dot(model.features, model.theta)\n",
    "print(\"\\nMeans: \", means)\n",
    "theta_bound = np.linalg.norm(model.theta, 2)\n",
    "print(\"\\nTheta bound: \", theta_bound)"
   ]
  },
  {
   "cell_type": "markdown",
   "metadata": {
    "colab_type": "text",
    "id": "6KUmWBFlUKKJ"
   },
   "source": [
    "**Question 1**: implement OFUL"
   ]
  },
  {
   "cell_type": "markdown",
   "metadata": {
    "colab_type": "text",
    "id": "G45BzTW_J4Gr"
   },
   "source": [
    "### LinUCB / OFUL\n",
    "See the slides!\n",
    "\n",
    "Note that it is not necessary to invert the matrix $A_t$ at each round. Since $A_t$ is obtained from a rank-1 update of $A_{t-1}$, it is possible to use Sherman–Morrison formula to build directly $A_t^{-1}$.\n",
    "\n",
    "Suppose $𝐴$ be a nonsingular $n\\times n$ matrix and $\\mathbf{u}, \\mathbf{v}$ be vectors. Then\n",
    "$$\n",
    "(A+\\mathbf{u}\\mathbf{v}^T)^{-1} = A^{-1} - \\frac{A^{-1}\\mathbf{u}\\mathbf{v}^TA^{-1}}{1+\\mathbf{v}^TA^{-1}\\mathbf{u}}.\n",
    "$$"
   ]
  },
  {
   "cell_type": "code",
   "execution_count": 80,
   "metadata": {
    "colab": {},
    "colab_type": "code",
    "id": "AxRC2xoAUKKJ"
   },
   "outputs": [],
   "source": [
    "class OFUL:\n",
    "    def __init__(self, arm_features, reg_factor, delta, bound_theta, noise_std):\n",
    "        self.arm_features = arm_features\n",
    "        self.reg_factor = reg_factor\n",
    "        self.delta = delta\n",
    "        self.iteration = 0\n",
    "        self.bound_theta = bound_theta\n",
    "        self.bound_features = np.max(np.sqrt(np.sum(np.abs(arm_features) ** 2, axis=1)))\n",
    "        self.noise_std = noise_std\n",
    "\n",
    "        self.beta = 0\n",
    "        self.b = np.zeros(self.arm_features.shape[1])\n",
    "        self.A_inv = np.eye(self.arm_features.shape[1])/reg_factor\n",
    "        self.theta_hat = np.zeros(self.arm_features.shape[1])\n",
    "        \n",
    "        self.n_act = self.arm_features.shape[0]\n",
    "        self.n_feat = self.arm_features.shape[1]\n",
    "        \n",
    "\n",
    "    def sample_action(self):\n",
    "        \"\"\"Return the action to play based on current estimates\n",
    "        \"\"\"\n",
    "        actions = alg.arm_features.dot(self.theta_hat) + self.beta*np.sqrt(np.diag(self.arm_features.dot(self.A_inv.dot(self.arm_features.T))))\n",
    "        return np.argmax(actions)\n",
    "        \n",
    "    def update(self, a_t, r_t):\n",
    "        \"\"\"Update the estimates of the model\n",
    "        \n",
    "\n",
    "        Parameters\n",
    "        ----------\n",
    "        a_t: int\n",
    "            The action played at the current episode\n",
    "        r_t: float\n",
    "            The reward associated to action a_t\n",
    "\n",
    "        Returns\n",
    "        -------\n",
    "        none\n",
    "        \"\"\"\n",
    "        self.beta = self.noise_std * np.sqrt(self.n_feat*np.log((1+(self.bound_features*self.iteration)/self.reg_factor)/self.delta)) + np.sum(self.theta_hat**2)*np.sqrt(self.reg_factor)\n",
    "        self.b += r_t * self.arm_features[a_t]\n",
    "        self.A_inv = self.A_inv - self.A_inv.dot(np.array([self.arm_features[a_t]]).T).dot(np.array([self.arm_features[a_t]])).dot(self.A_inv)/(1 + np.array([self.arm_features[a_t]]).dot(self.A_inv).dot(np.array([self.arm_features[a_t]]).T))\n",
    "        self.theta_hat = self.A_inv.dot(self.b)\n",
    "    "
   ]
  },
  {
   "cell_type": "markdown",
   "metadata": {
    "colab_type": "text",
    "id": "OtwYcKlrK6UP"
   },
   "source": [
    "**Question 2:** implement LinearTS"
   ]
  },
  {
   "cell_type": "markdown",
   "metadata": {
    "colab_type": "text",
    "id": "9xl29-B3MEOC"
   },
   "source": [
    "Let $A_t$ be the design matrix, $\\theta_t$ the estimate of $\\theta^\\star$ and $\\beta_t$ the confidence interval built by LinUCB. Then, at every time step t,  LinearTS simply generates\n",
    "a sample $\\tilde{\\theta}_t$ from the distribution $\\mathcal{N}(\\widehat{\\theta}_t, \\omega_t \\beta_t^2 A_t^{-1})$.\n",
    "\n",
    "LinearTS\n",
    "\n",
    "For $t=1, \\ldots, T$\n",
    "> $\\tilde{\\theta}_t \\sim \\mathcal{N}(\\widehat{\\theta}_t, \\omega_t \\beta_t^2 A_t^{-1})$\n",
    ">\n",
    "> $a_t \\in \\arg\\max_{a \\in \\mathcal{A}_t}  \\langle \\tilde{\\theta}_t, \\phi_{a} \\rangle$\n",
    ">\n",
    "> observe reward $r_t$\n",
    "\n",
    "TS is requires to draw $\\tilde{\\theta}_t$ from a distribution over-sampling by a factor $\\sqrt{d}$ the ellipsoid constructed by OFUL (i.e., $\\omega_t = d$). This is required to prove that LinearTS is optimistic with a fix probability. This is necessary to prove the frequentist regret of TS. The regret of TS is worse than the one of OFUL by a factor $\\sqrt{d}$ (i.e., $\\widetilde{O}(d^{3/2}\\sqrt{T})$)"
   ]
  },
  {
   "cell_type": "code",
   "execution_count": 81,
   "metadata": {
    "colab": {},
    "colab_type": "code",
    "id": "zTJh0yqgUKKM"
   },
   "outputs": [],
   "source": [
    "class LinearTS(OFUL):\n",
    "    def __init__(self, arm_features, reg_factor, delta, bound_theta, noise_std):\n",
    "        super(LinearTS, self).__init__(arm_features, reg_factor, delta, bound_theta, noise_std)\n",
    "    \n",
    "    def sample_action(self):\n",
    "        \"\"\"Return the action to play based on current estimates\n",
    "        \"\"\"\n",
    "        theta_tild = np.random.multivariate_normal(self.theta_hat, np.sqrt(self.n_feat)*self.beta**2*self.A_inv)\n",
    "        return np.argmax(self.arm_features.dot(theta_tild))\n",
    "        "
   ]
  },
  {
   "cell_type": "markdown",
   "metadata": {},
   "source": [
    "<div class=\"alert alert-danger\">\n",
    "\n",
    "An important remark has to be done. In the cell above, there is an oversampling by a factor $\\sqrt d$, which corresponds to the \"term\" np.sqrt(self.n_feat) in the function sample_action defined above. Note that, if we remove this \"term\", and only consider \n",
    "```python\n",
    "theta_tild = np.random.multivariate_normal(self.theta_hat, self.beta**2*self.A_inv)\n",
    "```\n",
    "then we obtain a result similar to the one posted on piazza !"
   ]
  },
  {
   "cell_type": "markdown",
   "metadata": {
    "colab_type": "text",
    "id": "kKERx2_UUKKN"
   },
   "source": [
    "**Question 3**: run the algorithms (`OFUL` and `LinearTS`) and average the performance over multiple users (ie simulations)\n",
    "\n",
    "The regret $R(T) = \\sum_t \\phi_t^\\top (\\theta^\\star - \\theta_t)$\n",
    "\n",
    "The performance is the expected regret over multiple users. You can also test `LinearTS` without the additional $\\sqrt{d}$."
   ]
  },
  {
   "cell_type": "markdown",
   "metadata": {
    "colab_type": "text",
    "id": "urKPGY9vXxRn"
   },
   "source": [
    "You can use `RandomLinearArms` to test your code before using Jester"
   ]
  },
  {
   "cell_type": "code",
   "execution_count": 82,
   "metadata": {
    "colab": {},
    "colab_type": "code",
    "id": "Y1pezF4JUKKO"
   },
   "outputs": [
    {
     "name": "stdout",
     "output_type": "stream",
     "text": [
      "OFUL simulation 1/4\n",
      "OFUL simulation 2/4\n",
      "OFUL simulation 3/4\n",
      "OFUL simulation 4/4\n",
      "LinearTS simulation 1/4\n",
      "LinearTS simulation 2/4\n",
      "LinearTS simulation 3/4\n",
      "LinearTS simulation 4/4\n"
     ]
    }
   ],
   "source": [
    "# from mvarl_hands_on.utils.coldstart import RandomLinearArms\n",
    "\n",
    "nb_simulations = 4\n",
    "T = int(5e4)\n",
    "\n",
    "algorithms = {\n",
    "            'OFUL': lambda arm_features, bound_theta: \n",
    "              OFUL(arm_features=arm_features, reg_factor=1., delta=0.01,\n",
    "                 bound_theta=bound_theta, noise_std=config_cs['noise_std']),\n",
    "             'LinearTS': lambda arm_features, bound_theta:\n",
    "              LinearTS(arm_features=arm_features, reg_factor=1., delta=0.01,\n",
    "                 bound_theta=bound_theta, noise_std=config_cs['noise_std'])\n",
    "             }\n",
    "\n",
    "regrets = {}\n",
    "\n",
    "for alg_name in algorithms.keys():\n",
    "    if alg_name not in regrets.keys():\n",
    "        regrets[alg_name] = np.zeros((nb_simulations, T))\n",
    "    \n",
    "    for k in range(nb_simulations):\n",
    "        if k % 1 == 0:\n",
    "            print(\"{} simulation {}/{}\".format(alg_name, k+1, nb_simulations))\n",
    "        model = ColdStartFromDataset(**config_cs)\n",
    "#         model = RandomLinearArms()\n",
    "        alg = algorithms[alg_name](arm_features=model.features, bound_theta=np.linalg.norm(model.theta, 2))\n",
    "        for t in range(T):\n",
    "            alg.iteration = t\n",
    "            a_t = alg.sample_action()\n",
    "            r_t = model.reward(a_t)\n",
    "\n",
    "            alg.update(a_t, r_t)\n",
    "            \n",
    "            regrets[alg_name][k, t] = model.best_arm_reward() - r_t\n"
   ]
  },
  {
   "cell_type": "code",
   "execution_count": 83,
   "metadata": {
    "colab": {},
    "colab_type": "code",
    "id": "vz5uoLmvUKKP"
   },
   "outputs": [
    {
     "data": {
      "text/plain": [
       "<matplotlib.legend.Legend at 0x1a2d985dd8>"
      ]
     },
     "execution_count": 83,
     "metadata": {},
     "output_type": "execute_result"
    },
    {
     "data": {
      "image/png": "[encoded data removed]",
      "text/plain": [
       "<Figure size 720x576 with 1 Axes>"
      ]
     },
     "metadata": {
      "needs_background": "light"
     },
     "output_type": "display_data"
    }
   ],
   "source": [
    "plt.figure(figsize=(10,8))\n",
    "for alg_name in regrets.keys():\n",
    "    data = np.cumsum(regrets[alg_name], axis=1)\n",
    "    n_rep, T = data.shape\n",
    "    mean_regret = np.mean(data, axis=0)\n",
    "    std_regret = np.std(data, axis=0) / math.sqrt(n_rep)\n",
    "    t = np.arange(T)\n",
    "    plt.plot(t, mean_regret, label=alg_name)\n",
    "    plt.fill_between(t, mean_regret - 2 * std_regret, mean_regret + 2 * std_regret, alpha=0.15)\n",
    "plt.legend()"
   ]
  },
  {
   "cell_type": "code",
   "execution_count": null,
   "metadata": {},
   "outputs": [],
   "source": []
  }
 ],
 "metadata": {
  "colab": {
   "collapsed_sections": [],
   "name": "MVARL19_part3.ipynb",
   "private_outputs": true,
   "provenance": []
  },
  "kernelspec": {
   "display_name": "Python 3",
   "language": "python",
   "name": "python3"
  },
  "language_info": {
   "codemirror_mode": {
    "name": "ipython",
    "version": 3
   },
   "file_extension": ".py",
   "mimetype": "text/x-python",
   "name": "python",
   "nbconvert_exporter": "python",
   "pygments_lexer": "ipython3",
   "version": "3.7.3"
  }
 },
 "nbformat": 4,
 "nbformat_minor": 1
}

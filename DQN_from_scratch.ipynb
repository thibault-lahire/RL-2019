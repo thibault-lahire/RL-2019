{
  "nbformat": 4,
  "nbformat_minor": 0,
  "metadata": {
    "anaconda-cloud": {},
    "kernelspec": {
      "display_name": "Python 3",
      "language": "python",
      "name": "python3"
    },
    "language_info": {
      "codemirror_mode": {
        "name": "ipython",
        "version": 3
      },
      "file_extension": ".py",
      "mimetype": "text/x-python",
      "name": "python",
      "nbconvert_exporter": "python",
      "pygments_lexer": "ipython3",
      "version": "3.7.3"
    },
    "colab": {
      "name": "LAHIRE_DQN_final",
      "provenance": []
    }
  },
  "cells": [
    {
      "cell_type": "markdown",
      "metadata": {
        "id": "KtksqfwKV374",
        "colab_type": "text"
      },
      "source": [
        "**You may need to install [OpenCV](https://pypi.python.org/pypi/opencv-python) and [scikit-video](http://www.scikit-video.org/stable/).**"
      ]
    },
    {
      "cell_type": "code",
      "metadata": {
        "id": "zKbgAhKoWBKk",
        "colab_type": "code",
        "outputId": "ccf7d57f-82d1-467b-d269-7699e03d28fb",
        "colab": {
          "base_uri": "https://localhost:8080/",
          "height": 173
        }
      },
      "source": [
        "import sys\n",
        "!{sys.executable} -m pip install scikit-video"
      ],
      "execution_count": 1,
      "outputs": [
        {
          "output_type": "stream",
          "text": [
            "Collecting scikit-video\n",
            "\u001b[?25l  Downloading https://files.pythonhosted.org/packages/b1/a6/c69cad508139a342810ae46e946ebb3256aa6e42f690d901bb68f50582e3/scikit_video-1.1.11-py2.py3-none-any.whl (2.3MB)\n",
            "\u001b[K     |████████████████████████████████| 2.3MB 2.7MB/s \n",
            "\u001b[?25hRequirement already satisfied: pillow in /usr/local/lib/python3.6/dist-packages (from scikit-video) (6.2.2)\n",
            "Requirement already satisfied: scipy in /usr/local/lib/python3.6/dist-packages (from scikit-video) (1.4.1)\n",
            "Requirement already satisfied: numpy in /usr/local/lib/python3.6/dist-packages (from scikit-video) (1.17.5)\n",
            "Installing collected packages: scikit-video\n",
            "Successfully installed scikit-video-1.1.11\n"
          ],
          "name": "stdout"
        }
      ]
    },
    {
      "cell_type": "code",
      "metadata": {
        "id": "_hHHLcIKV37-",
        "colab_type": "code",
        "colab": {
          "base_uri": "https://localhost:8080/",
          "height": 80
        },
        "outputId": "ed48e782-d1b6-4ea2-bb3c-170e2847cd86"
      },
      "source": [
        "import keras\n",
        "import numpy as np\n",
        "import io\n",
        "import base64\n",
        "from IPython.display import HTML\n",
        "import skvideo.io\n",
        "import cv2\n",
        "import json\n",
        "\n",
        "from keras.models import Sequential,model_from_json\n",
        "from keras.layers.core import Dense\n",
        "from keras.optimizers import sgd,Adam\n",
        "from keras.layers import Conv2D, MaxPooling2D, Activation, AveragePooling2D,Reshape,BatchNormalization,Flatten"
      ],
      "execution_count": 2,
      "outputs": [
        {
          "output_type": "stream",
          "text": [
            "Using TensorFlow backend.\n"
          ],
          "name": "stderr"
        },
        {
          "output_type": "display_data",
          "data": {
            "text/html": [
              "<p style=\"color: red;\">\n",
              "The default version of TensorFlow in Colab will soon switch to TensorFlow 2.x.<br>\n",
              "We recommend you <a href=\"https://www.tensorflow.org/guide/migrate\" target=\"_blank\">upgrade</a> now \n",
              "or ensure your notebook will continue to use TensorFlow 1.x via the <code>%tensorflow_version 1.x</code> magic:\n",
              "<a href=\"https://colab.research.google.com/notebooks/tensorflow_version.ipynb\" target=\"_blank\">more info</a>.</p>\n"
            ],
            "text/plain": [
              "<IPython.core.display.HTML object>"
            ]
          },
          "metadata": {
            "tags": []
          }
        }
      ]
    },
    {
      "cell_type": "code",
      "metadata": {
        "id": "U4Icy17dV38R",
        "colab_type": "code",
        "outputId": "8cc76258-aeae-4c14-a927-43f0d3cc9000",
        "colab": {
          "base_uri": "https://localhost:8080/",
          "height": 411
        }
      },
      "source": [
        "!apt-get install --no-install-recommends ffmpeg && pip install ffmpeg scikit-video\n",
        "\n",
        "import skvideo.io\n",
        "import skvideo.datasets\n",
        "bbb = skvideo.datasets.bigbuckbunny()\n",
        "print('bigbuckbunny is in: {}'.format(bbb))"
      ],
      "execution_count": 3,
      "outputs": [
        {
          "output_type": "stream",
          "text": [
            "Reading package lists... Done\n",
            "Building dependency tree       \n",
            "Reading state information... Done\n",
            "ffmpeg is already the newest version (7:3.4.6-0ubuntu0.18.04.1).\n",
            "The following package was automatically installed and is no longer required:\n",
            "  libnvidia-common-430\n",
            "Use 'apt autoremove' to remove it.\n",
            "0 upgraded, 0 newly installed, 0 to remove and 25 not upgraded.\n",
            "Collecting ffmpeg\n",
            "  Downloading https://files.pythonhosted.org/packages/f0/cc/3b7408b8ecf7c1d20ad480c3eaed7619857bf1054b690226e906fdf14258/ffmpeg-1.4.tar.gz\n",
            "Requirement already satisfied: scikit-video in /usr/local/lib/python3.6/dist-packages (1.1.11)\n",
            "Requirement already satisfied: pillow in /usr/local/lib/python3.6/dist-packages (from scikit-video) (6.2.2)\n",
            "Requirement already satisfied: numpy in /usr/local/lib/python3.6/dist-packages (from scikit-video) (1.17.5)\n",
            "Requirement already satisfied: scipy in /usr/local/lib/python3.6/dist-packages (from scikit-video) (1.4.1)\n",
            "Building wheels for collected packages: ffmpeg\n",
            "  Building wheel for ffmpeg (setup.py) ... \u001b[?25l\u001b[?25hdone\n",
            "  Created wheel for ffmpeg: filename=ffmpeg-1.4-cp36-none-any.whl size=6084 sha256=4149be119684bd800a4912e6328cba77bf55ff23e341c1ea04e507e17501a641\n",
            "  Stored in directory: /root/.cache/pip/wheels/b6/68/c3/a05a35f647ba871e5572b9bbfc0b95fd1c6637a2219f959e7a\n",
            "Successfully built ffmpeg\n",
            "Installing collected packages: ffmpeg\n",
            "Successfully installed ffmpeg-1.4\n",
            "bigbuckbunny is in: /usr/local/lib/python3.6/dist-packages/skvideo/datasets/data/bigbuckbunny.mp4\n"
          ],
          "name": "stdout"
        }
      ]
    },
    {
      "cell_type": "markdown",
      "metadata": {
        "id": "8cIzAY-RV38c",
        "colab_type": "text"
      },
      "source": [
        "# MiniProject on Deep Reinforcement Learning \n",
        "\n",
        "# Thibault LAHIRE - MVA 2019-2020"
      ]
    },
    {
      "cell_type": "markdown",
      "metadata": {
        "id": "KMl9RJjzV38h",
        "colab_type": "text"
      },
      "source": [
        "__Notations__: $E_p$ is the expectation under probability $p$. Please justify each of your answer and widely comment your code."
      ]
    },
    {
      "cell_type": "markdown",
      "metadata": {
        "id": "mMu35NZKV38j",
        "colab_type": "text"
      },
      "source": [
        "# Context"
      ]
    },
    {
      "cell_type": "markdown",
      "metadata": {
        "id": "zA2TRYVwV38n",
        "colab_type": "text"
      },
      "source": [
        "In a reinforcement learning algorithm, we modelize each step $t$ as an action $a_t$ obtained from a state $s_t$, i.e. $\\{(a_{t},s_{t})_{t\\leq T}\\}$ having the Markov property. We consider a discount factor $\\gamma \\in [0,1]$ that ensures convergence. The goal is to find among all the policies $\\pi$, one that maximizes the expected reward:\n",
        "\n",
        "\\begin{equation*}\n",
        "R(\\pi)=\\sum_{t\\leq T}E_{p^{\\pi}}[\\gamma^t r(s_{t},a_{t})] \\> ,\n",
        "\\end{equation*}\n",
        "\n",
        "where: \n",
        "\\begin{equation*}p^{\\pi}(a_{0},a_{1},s_{1},...,a_{T},s_{T})=p(a_{0})\\prod_{t=1}^{T}\\pi(a_{t}|s_{t})p(s_{t+1}|s_{t},a_{t}) \\> .\n",
        "\\end{equation*}\n",
        "\n",
        "We note the $Q$-function:\n",
        "\n",
        "\\begin{equation*}Q^\\pi(s,a)=E_{p^{\\pi}}[\\sum_{t\\leq T}\\gamma^{t}r(s_{t},a_{t})|s_{0}=s,a_{0}=a] \\> .\n",
        "\\end{equation*}\n",
        "\n",
        "Thus, the optimal Q function is:\n",
        "\\begin{equation*}\n",
        "Q^*(s,a)=\\max_{\\pi}Q^\\pi(s,a) \\> .\n",
        "\\end{equation*}\n",
        "\n",
        "In this project, we will apply the deep reinforcement learning techniques to a simple game: an agent will have to learn from scratch a policy that will permit it maximizing a reward."
      ]
    },
    {
      "cell_type": "markdown",
      "metadata": {
        "id": "FyweRNFOV38o",
        "colab_type": "text"
      },
      "source": [
        "## The environment, the agent and the game"
      ]
    },
    {
      "cell_type": "markdown",
      "metadata": {
        "id": "YTdhaT2tV38q",
        "colab_type": "text"
      },
      "source": [
        "### The environment"
      ]
    },
    {
      "cell_type": "markdown",
      "metadata": {
        "id": "Of8-gndhV38s",
        "colab_type": "text"
      },
      "source": [
        "```Environment``` is an abstract class that represents the states, rewards, and actions to obtain the new state."
      ]
    },
    {
      "cell_type": "code",
      "metadata": {
        "id": "z8S3_tG2V38u",
        "colab_type": "code",
        "colab": {}
      },
      "source": [
        "class Environment(object):\n",
        "    def __init__(self):\n",
        "        pass\n",
        "\n",
        "    def act(self, act):\n",
        "        \"\"\"\n",
        "        One can act on the environment and obtain its reaction:\n",
        "        - the new state\n",
        "        - the reward of the new state\n",
        "        - should we continue the game?\n",
        "\n",
        "        :return: state, reward, game_over\n",
        "        \"\"\"\n",
        "        pass\n",
        "\n",
        "\n",
        "    def reset(self):\n",
        "        \"\"\"\n",
        "        Reinitialize the environment to a random state and returns\n",
        "        the original state\n",
        "\n",
        "        :return: state\n",
        "        \"\"\"\n",
        "        pass\n",
        "    \n",
        "    def draw(self):\n",
        "        \"\"\"\n",
        "        Visualize in the console or graphically the current state\n",
        "        \"\"\"\n",
        "        pass"
      ],
      "execution_count": 0,
      "outputs": []
    },
    {
      "cell_type": "markdown",
      "metadata": {
        "id": "w9QJ_dYbV381",
        "colab_type": "text"
      },
      "source": [
        "The method ```act``` allows to act on the environment at a given state $s_t$ (stored internally), via action $a_t$. The method will return the new state $s_{t+1}$, the reward $r(s_{t},a_{t})$ and determines if $t\\leq T$ (*game_over*).\n",
        "\n",
        "The method ```reset``` simply reinitializes the environment to a random state $s_0$.\n",
        "\n",
        "The method ```draw``` displays the current state $s_t$ (this is useful to check the behavior of the Agent).\n",
        "\n",
        "We modelize $s_t$ as a tensor, while $a_t$ is an integer."
      ]
    },
    {
      "cell_type": "markdown",
      "metadata": {
        "id": "BXgnYtRcV382",
        "colab_type": "text"
      },
      "source": [
        "### The Agent"
      ]
    },
    {
      "cell_type": "markdown",
      "metadata": {
        "id": "3Aocbl0ZV383",
        "colab_type": "text"
      },
      "source": [
        "The goal of the ```Agent``` is to interact with the ```Environment``` by proposing actions $a_t$ obtained from a given state $s_t$ to attempt to maximize its __reward__ $r(s_t,a_t)$. We propose the following abstract class:"
      ]
    },
    {
      "cell_type": "code",
      "metadata": {
        "id": "yEhbq3-5V385",
        "colab_type": "code",
        "colab": {}
      },
      "source": [
        "class Agent(object):\n",
        "    def __init__(self, epsilon=0.1, n_action=4):\n",
        "        self.epsilon = epsilon\n",
        "        self.n_action = n_action\n",
        "    \n",
        "    def set_epsilon(self,e):\n",
        "        self.epsilon = e\n",
        "\n",
        "    def act(self,s,train=True):\n",
        "        \"\"\" This function should return the next action to do:\n",
        "        an integer between 0 and 4 (not included) with a random exploration of epsilon\"\"\"\n",
        "        if train:\n",
        "            if np.random.rand() <= self.epsilon:\n",
        "                a = np.random.randint(0, self.n_action, size=1)[0]\n",
        "            else:\n",
        "                a = self.learned_act(s)\n",
        "        else: # in some cases, this can improve the performance.. remove it if poor performances\n",
        "            a = self.learned_act(s)\n",
        "\n",
        "        return a\n",
        "\n",
        "    def learned_act(self,s):\n",
        "        \"\"\" Act via the policy of the agent, from a given state s\n",
        "        it proposes an action a\"\"\"\n",
        "        pass\n",
        "\n",
        "    def reinforce(self, s, n_s, a, r, game_over_):\n",
        "        \"\"\" This function is the core of the learning algorithm. \n",
        "        It takes as an input the current state s_, the next state n_s_\n",
        "        the action a_ used to move from s_ to n_s_ and the reward r_.\n",
        "        \n",
        "        Its goal is to learn a policy.\n",
        "        \"\"\"\n",
        "        pass\n",
        "\n",
        "    def save(self):\n",
        "        \"\"\" This function returns basic stats if applicable: the\n",
        "        loss and/or the model\"\"\"\n",
        "        pass\n",
        "\n",
        "    def load(self):\n",
        "        \"\"\" This function allows to restore a model\"\"\"\n",
        "        pass"
      ],
      "execution_count": 0,
      "outputs": []
    },
    {
      "cell_type": "markdown",
      "metadata": {
        "id": "fbaNreuEV389",
        "colab_type": "text"
      },
      "source": [
        "***\n",
        "__Question 1__:\n",
        "Explain the function act. Why is ```epsilon``` essential?"
      ]
    },
    {
      "cell_type": "markdown",
      "metadata": {
        "id": "424SsgCgV38-",
        "colab_type": "text"
      },
      "source": [
        "The function act takes as arguments the current state ```s``` and a boolean called ```train```. It returns an action to perform from state ```s```. When ```train=False```, the function returns the action proposed by the current policy. When we know that the current policy is the best policy, we must do exploitation and set ```train``` to ```False```. However, when the agent is learning the best policy, then executing the current policy means executing a sub-optimal policy. This behaviour has two issues. First, we do not collect as much rewards as we could, and, second, the learning ends rapidly because the agent does not explore the environment (which means the agent quickly gets stuck in a local optimum).\n",
        "\n",
        "Thus, it is a good idea to force exploration during the learning (training) phase. This can be done by using epsilon. In the proposed function, the agent acts randomly (i.e. explores) with probability ```epsilon``` and follows the current policy (i.e. exploits) with probability 1 - ```epsilon```."
      ]
    },
    {
      "cell_type": "markdown",
      "metadata": {
        "id": "ewIzKljhV38_",
        "colab_type": "text"
      },
      "source": [
        "***\n",
        "### The Game"
      ]
    },
    {
      "cell_type": "markdown",
      "metadata": {
        "id": "DuMa-gZTV39B",
        "colab_type": "text"
      },
      "source": [
        "The ```Agent``` and the ```Environment``` work in an interlaced way as in the following (take some time to understand this code as it is the core of the project)\n",
        "\n",
        "```python\n",
        "\n",
        "epoch = 300\n",
        "env = Environment()\n",
        "agent = Agent()\n",
        "\n",
        "\n",
        "# Number of won games\n",
        "score = 0\n",
        "loss = 0\n",
        "\n",
        "\n",
        "for e in range(epoch):\n",
        "    # At each epoch, we restart to a fresh game and get the initial state\n",
        "    state = env.reset()\n",
        "    # This assumes that the games will end\n",
        "    game_over = False\n",
        "\n",
        "    win = 0\n",
        "    lose = 0\n",
        "    \n",
        "    while not game_over:\n",
        "        # The agent performs an action\n",
        "        action = agent.act(state)\n",
        "\n",
        "        # Apply an action to the environment, get the next state, the reward\n",
        "        # and if the games end\n",
        "        prev_state = state\n",
        "        state, reward, game_over = env.act(action)\n",
        "\n",
        "        # Update the counters\n",
        "        if reward > 0:\n",
        "            win = win + reward\n",
        "        if reward < 0:\n",
        "            lose = lose -reward\n",
        "\n",
        "        # Apply the reinforcement strategy\n",
        "        loss = agent.reinforce(prev_state, state,  action, reward, game_over)\n",
        "\n",
        "    # Save as a mp4\n",
        "    if e % 10 == 0:\n",
        "        env.draw(e)\n",
        "\n",
        "    # Update stats\n",
        "    score += win-lose\n",
        "\n",
        "    print(\"Epoch {:03d}/{:03d} | Loss {:.4f} | Win/lose count {}/{} ({})\"\n",
        "          .format(e, epoch, loss, win, lose, win-lose))\n",
        "    agent.save()\n",
        "```"
      ]
    },
    {
      "cell_type": "markdown",
      "metadata": {
        "id": "gvKXdhAmV39D",
        "colab_type": "text"
      },
      "source": [
        "# The game, *eat cheese*"
      ]
    },
    {
      "cell_type": "markdown",
      "metadata": {
        "id": "dwVj0sDNV39F",
        "colab_type": "text"
      },
      "source": [
        "A rat runs on an island and tries to eat as much as possible. The island is subdivided into $N\\times N$ cells, in which there are cheese (+0.5) and poisonous cells (-1). The rat has a visibility of 2 cells (thus it can see $5^2$ cells). The rat is given a time $T$ to accumulate as much food as possible. It can perform 4 actions: going up, down, left, right. \n",
        "\n",
        "The goal is to code an agent to solve this task that will learn by trial and error. We propose the following environment:"
      ]
    },
    {
      "cell_type": "code",
      "metadata": {
        "id": "9rsKOFJnV39G",
        "colab_type": "code",
        "colab": {}
      },
      "source": [
        "class Environment(object):\n",
        "    def __init__(self, grid_size=10, max_time=500, temperature=0.1):\n",
        "        grid_size = grid_size+4\n",
        "        self.grid_size = grid_size\n",
        "        self.max_time = max_time\n",
        "        self.temperature = temperature\n",
        "\n",
        "        #board on which one plays\n",
        "        self.board = np.zeros((grid_size,grid_size))\n",
        "        self.position = np.zeros((grid_size,grid_size))\n",
        "\n",
        "        # coordinate of the agent\n",
        "        self.x = 0\n",
        "        self.y = 1\n",
        "\n",
        "        # self time\n",
        "        self.t = 0\n",
        "\n",
        "        self.scale=16\n",
        "\n",
        "        self.to_draw = np.zeros((max_time+2, grid_size*self.scale, grid_size*self.scale, 3))\n",
        "\n",
        "\n",
        "    def draw(self,e):\n",
        "        skvideo.io.vwrite(str(e) + '.mp4', self.to_draw)\n",
        "\n",
        "    def get_frame(self,t):\n",
        "        b = np.zeros((self.grid_size,self.grid_size,3))+128\n",
        "        b[self.board>0,0] = 256\n",
        "        b[self.board < 0, 2] = 256\n",
        "        b[self.x,self.y,:]=256\n",
        "        b[-2:,:,:]=0\n",
        "        b[:,-2:,:]=0\n",
        "        b[:2,:,:]=0\n",
        "        b[:,:2,:]=0 \n",
        "        \n",
        "        b =  cv2.resize(b, None, fx=self.scale, fy=self.scale, interpolation=cv2.INTER_NEAREST)\n",
        "\n",
        "        self.to_draw[t,:,:,:]=b\n",
        "\n",
        "\n",
        "    def act(self, action):\n",
        "        \"\"\"This function returns the new state, reward and decides if the\n",
        "        game ends.\"\"\"\n",
        "\n",
        "        self.get_frame(int(self.t))\n",
        "\n",
        "        self.position = np.zeros((self.grid_size, self.grid_size))\n",
        "\n",
        "        self.position[0:2,:]= -1\n",
        "        self.position[:,0:2] = -1\n",
        "        self.position[-2:, :] = -1\n",
        "        self.position[:, -2:] = -1 \n",
        "\n",
        "        self.position[self.x, self.y] = 1\n",
        "        if action == 0:\n",
        "            if self.x == self.grid_size-3:\n",
        "                self.x = self.x-1\n",
        "            else:\n",
        "                self.x = self.x + 1\n",
        "        elif action == 1:\n",
        "            if self.x == 2:\n",
        "                self.x = self.x+1\n",
        "            else:\n",
        "                self.x = self.x-1\n",
        "        elif action == 2:\n",
        "            if self.y == self.grid_size - 3:\n",
        "                self.y = self.y - 1\n",
        "            else:\n",
        "                self.y = self.y + 1\n",
        "        elif action == 3:\n",
        "            if self.y == 2:\n",
        "                self.y = self.y + 1\n",
        "            else:\n",
        "                self.y = self.y - 1\n",
        "        else:\n",
        "            RuntimeError('Error: action not recognized')\n",
        "\n",
        "        self.t = self.t + 1\n",
        "        reward = self.board[self.x, self.y]\n",
        "        self.board[self.x, self.y] = 0\n",
        "        game_over = self.t > self.max_time\n",
        "        state = np.concatenate((self.board.reshape(self.grid_size, self.grid_size,1),\n",
        "                        self.position.reshape(self.grid_size, self.grid_size,1)),axis=2)\n",
        "        state = state[self.x-2:self.x+3,self.y-2:self.y+3,:]\n",
        "\n",
        "        return state, reward, game_over\n",
        "\n",
        "    def reset(self):\n",
        "        \"\"\"This function resets the game and returns the initial state\"\"\"\n",
        "\n",
        "        self.x = np.random.randint(3, self.grid_size-3, size=1)[0]\n",
        "        self.y = np.random.randint(3, self.grid_size-3, size=1)[0]\n",
        "\n",
        "\n",
        "        bonus = 0.5*np.random.binomial(1,self.temperature,size=self.grid_size**2)\n",
        "        bonus = bonus.reshape(self.grid_size,self.grid_size)\n",
        "\n",
        "        malus = -1.0*np.random.binomial(1,self.temperature,size=self.grid_size**2)\n",
        "        malus = malus.reshape(self.grid_size, self.grid_size)\n",
        "\n",
        "        self.to_draw = np.zeros((self.max_time+2, self.grid_size*self.scale, self.grid_size*self.scale, 3))\n",
        "\n",
        "\n",
        "        malus[bonus>0]=0\n",
        "\n",
        "        self.board = bonus + malus\n",
        "\n",
        "        self.position = np.zeros((self.grid_size, self.grid_size))\n",
        "        self.position[0:2,:]= -1\n",
        "        self.position[:,0:2] = -1\n",
        "        self.position[-2:, :] = -1\n",
        "        self.position[:,-2:] = -1\n",
        "        self.board[self.x,self.y] = 0\n",
        "        self.t = 0\n",
        "\n",
        "        state = np.concatenate((\n",
        "                               self.board.reshape(self.grid_size, self.grid_size,1),\n",
        "                        self.position.reshape(self.grid_size, self.grid_size,1)),axis=2)\n",
        "\n",
        "        state = state[self.x - 2:self.x + 3, self.y - 2:self.y + 3, :]\n",
        "        return state"
      ],
      "execution_count": 0,
      "outputs": []
    },
    {
      "cell_type": "markdown",
      "metadata": {
        "id": "cIpDar7SV39L",
        "colab_type": "text"
      },
      "source": [
        "The following elements are important because they correspond to the hyper parameters for this project:"
      ]
    },
    {
      "cell_type": "code",
      "metadata": {
        "id": "0UMZLrQ3V39M",
        "colab_type": "code",
        "colab": {}
      },
      "source": [
        "# parameters\n",
        "size = 13\n",
        "T=200\n",
        "temperature=0.3\n",
        "epochs_train=50 # set small when debugging\n",
        "epochs_test=11 # set small when debugging\n",
        "\n",
        "# display videos\n",
        "def display_videos(name):\n",
        "    video = io.open(name, 'r+b').read()\n",
        "    encoded = base64.b64encode(video)\n",
        "    return '''<video alt=\"test\" controls>\n",
        "                <source src=\"data:video/mp4;base64,{0}\" type=\"video/mp4\" />\n",
        "             </video>'''.format(encoded.decode('ascii'))"
      ],
      "execution_count": 0,
      "outputs": []
    },
    {
      "cell_type": "markdown",
      "metadata": {
        "id": "R-Euo7Z7V39P",
        "colab_type": "text"
      },
      "source": [
        "__Question 2__ Explain the use of the arrays ```position``` and ```board```."
      ]
    },
    {
      "cell_type": "markdown",
      "metadata": {
        "id": "E5EVWKiRV39R",
        "colab_type": "text"
      },
      "source": [
        "```position``` is an array of size (grid_size, grid_size) representing the position of the agent in the environment, as suggested by its name. To the location of the agent is associated the value $+1$ in the array. To the location of the boundaries is associated the value $-1$ in the array. All others positions are assigned to the value $0$.\n",
        "\n",
        "```board``` is also an array of size (grid_size, grid_size) containing the rewards associated to the positions. When there is cheese, the reward is equal to $0.5$. When there is poison, the reward is equal to $-1$. All the others positions are associated to the reward $0$."
      ]
    },
    {
      "cell_type": "markdown",
      "metadata": {
        "id": "mn6OM-HoV39T",
        "colab_type": "text"
      },
      "source": [
        "## Random Agent"
      ]
    },
    {
      "cell_type": "markdown",
      "metadata": {
        "id": "Cy7Vz_AbV39V",
        "colab_type": "text"
      },
      "source": [
        "***\n",
        "__Question 3__ Implement a random Agent (only ```learned_act``` needs to be implemented):"
      ]
    },
    {
      "cell_type": "code",
      "metadata": {
        "id": "smnWWliQV39W",
        "colab_type": "code",
        "colab": {}
      },
      "source": [
        "class RandomAgent(Agent):\n",
        "    def __init__(self):\n",
        "        super(RandomAgent, self).__init__()\n",
        "        pass\n",
        "\n",
        "    def learned_act(self, s):\n",
        "        return np.random.randint(0, self.n_action, size=1)[0]"
      ],
      "execution_count": 0,
      "outputs": []
    },
    {
      "cell_type": "markdown",
      "metadata": {
        "id": "X3TWCUXwV39a",
        "colab_type": "text"
      },
      "source": [
        "***\n",
        "***\n",
        "__Question 4__ Visualize the game moves. You need to fill in the following function for the evaluation:"
      ]
    },
    {
      "cell_type": "code",
      "metadata": {
        "id": "PbcbU0lsV39b",
        "colab_type": "code",
        "colab": {}
      },
      "source": [
        "def test(agent, env, epochs, prefix=''):\n",
        "    # Number of won games\n",
        "    score = 0\n",
        " \n",
        "    for e in range(epochs):\n",
        "        # At each epoch, we start a new game\n",
        "        state = env.reset()\n",
        "        # This tells if the game is over\n",
        "        game_over = False\n",
        "\n",
        "        win = 0\n",
        "        lose = 0\n",
        "        \n",
        "        \n",
        "        while not game_over:\n",
        "            # We take an action. train is true is the agent is learning, false otherwise.\n",
        "            action = agent.act(state, train=False)\n",
        "            # Collect the effects of the action\n",
        "            prev_state= state\n",
        "            state, reward, game_over = env.act(action)\n",
        "            # Update\n",
        "            if reward > 0:\n",
        "                win = win + reward \n",
        "            if reward < 0:\n",
        "                lose = lose - reward\n",
        "                \n",
        "        # Save as a mp4\n",
        "        env.draw(prefix+str(e))\n",
        "\n",
        "        # Update stats\n",
        "        score = score + win - lose\n",
        "\n",
        "        print(\"Win/lose count {}/{}. Average score ({})\"\n",
        "              .format(win, lose, score/(1+e)))\n",
        "    print('Final score: '+str(score/epochs))"
      ],
      "execution_count": 0,
      "outputs": []
    },
    {
      "cell_type": "code",
      "metadata": {
        "id": "9yi-lWXqV39e",
        "colab_type": "code",
        "outputId": "f043a67e-bb55-4dcc-ecc8-965298d9ae68",
        "colab": {
          "base_uri": "https://localhost:8080/",
          "height": 497
        }
      },
      "source": [
        "# Initialize the game\n",
        "env = Environment(grid_size=size, max_time=T, temperature=temperature)\n",
        "\n",
        "# Initialize the agent!\n",
        "agent = RandomAgent()\n",
        "\n",
        "test(agent,env,epochs_test,prefix='random')\n",
        "HTML(display_videos('random5.mp4'))"
      ],
      "execution_count": 10,
      "outputs": [
        {
          "output_type": "stream",
          "text": [
            "Win/lose count 13.0/14.0. Average score (-1.0)\n",
            "Win/lose count 13.0/19.0. Average score (-3.5)\n",
            "Win/lose count 7.0/23.0. Average score (-7.666666666666667)\n",
            "Win/lose count 7.5/17.0. Average score (-8.125)\n",
            "Win/lose count 11.5/11.0. Average score (-6.4)\n",
            "Win/lose count 9.5/7.0. Average score (-4.916666666666667)\n",
            "Win/lose count 9.5/20.0. Average score (-5.714285714285714)\n",
            "Win/lose count 7.5/11.0. Average score (-5.4375)\n",
            "Win/lose count 9.5/12.0. Average score (-5.111111111111111)\n",
            "Win/lose count 9.0/14.0. Average score (-5.1)\n",
            "Win/lose count 13.0/16.0. Average score (-4.909090909090909)\n",
            "Final score: -4.909090909090909\n"
          ],
          "name": "stdout"
        },
        {
          "output_type": "execute_result",
          "data": {
            "text/html": [
              "<video alt=\"test\" controls>\n",
              "                <source src=\"data:video/mp4;base64,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\" type=\"video/mp4\" />\n",
              "             </video>"
            ],
            "text/plain": [
              "<IPython.core.display.HTML object>"
            ]
          },
          "metadata": {
            "tags": []
          },
          "execution_count": 10
        }
      ]
    },
    {
      "cell_type": "markdown",
      "metadata": {
        "id": "hGEc5tmTV39j",
        "colab_type": "text"
      },
      "source": [
        "***\n",
        "## DQN"
      ]
    },
    {
      "cell_type": "markdown",
      "metadata": {
        "id": "8IXGIUZzV39l",
        "colab_type": "text"
      },
      "source": [
        "Let us assume here that $T=\\infty$.\n",
        "\n",
        "***\n",
        "__Question 5__ Let $\\pi$ be a policy, show that:\n",
        "\n",
        "\\begin{equation*}\n",
        "Q^{\\pi}(s,a)=E_{(s',a')\\sim p(.|s,a)}[r(s,a)+\\gamma Q^{\\pi}(s',a')]\n",
        "\\end{equation*}\n",
        "\n",
        "Then, show that for the optimal policy $\\pi^*$ (we assume its existence), the following holds: \n",
        "\n",
        "\\begin{equation*}\n",
        "Q^{*}(s,a)=E_{s'\\sim \\pi^*(.|s,a)}[r(s,a)+\\gamma\\max_{a'}Q^{*}(s',a')].\n",
        "\\end{equation*}\n",
        "Finally, deduce that a plausible objective is:\n",
        "\n",
        "\\begin{equation*}\n",
        "\\mathcal{L}(\\theta)=E_{s' \\sim \\pi^*(.|s,a)}\\Vert r+\\gamma\\max\\max_{a'}Q(s',a',\\theta)-Q(s,a,\\theta)\\Vert^{2}.\n",
        "\\end{equation*}\n",
        "\n",
        "\n"
      ]
    },
    {
      "cell_type": "markdown",
      "metadata": {
        "id": "cxiSc8MvV39m",
        "colab_type": "text"
      },
      "source": [
        "# Answer\n",
        "\n",
        "First, we have: \n",
        "\n",
        "\\begin{align}\n",
        "Q^{\\pi}(s,a) &=E \\left[ \\sum_{k=0}^{\\infty} \\gamma^k r(s_{t+k},a_{t+k})|s_t = s, a_t = a \\right] \\\\\n",
        "&=E \\left[ r(s,a) + \\sum_{k=1}^{\\infty} \\gamma^k r(s_{t+k},a_{t+k})|s_t = s, a_t = a \\right] \\\\\n",
        "&=r(s,a) + \\gamma E \\left[ \\sum_{k=1}^{\\infty} \\gamma^{k-1} r(s_{t+k},a_{t+k})|s_t = s, a_t = a \\right] \\\\\n",
        "&=r(s,a) + \\gamma \\sum_{(s',a')} p(s_{t+1}=s',a_{t+1}=a' |s_t = s, a_t = a ) E \\left[ \\sum_{k=1}^{\\infty} \\gamma^{k-1} r(s_{t+k},a_{t+k})|s_{t+1}=s',a_{t+1}=a' \\right] \\\\\n",
        "&=r(s,a) + \\gamma \\sum_{(s',a')} p(s_{t+1}=s',a_{t+1}=a' |s_t = s, a_t = a ) E \\left[ \\sum_{l=0}^{\\infty} \\gamma^{l} r(s_{t+l+1},a_{t+l+1})|s_{t+1}=s',a_{t+1}=a' \\right] \\\\\n",
        "&=r(s,a) + \\gamma \\sum_{(s',a')} p(s_{t+1}=s',a_{t+1}=a' |s_t = s, a_t = a ) Q^{\\pi}(s',a') \\\\\n",
        "&=\\sum_{(s',a')} p(s_{t+1}=s',a_{t+1}=a' |s_t = s, a_t = a ) r(s,a) + \\gamma \\sum_{(s',a')} p(s_{t+1}=s',a_{t+1}=a' |s_t = s, a_t = a ) Q^{\\pi}(s',a') \\\\\n",
        "&=\\sum_{(s',a')} p(s_{t+1}=s',a_{t+1}=a' |s_t = s, a_t = a ) \\left[ r(s,a) + \\gamma Q^{\\pi}(s',a') \\right] \\\\\n",
        "&=E_{(s',a')\\sim p(.|s,a)}[r(s,a)+\\gamma Q^{\\pi}(s',a')]\n",
        "\\end{align}\n",
        "\n",
        "Then we have:\n",
        "\n",
        "\\begin{align}\n",
        "Q^{*}(s,a) &= \\max_{\\pi} Q^{\\pi}(s',a') \\\\\n",
        "&= \\max_{\\pi} \\left\\{ r(s,a) + \\gamma \\sum_{(s',a')} p(s_{t+1}=s',a_{t+1}=a' |s_t = s, a_t = a )  Q^{\\pi}(s',a')  \\right\\} \\\\\n",
        "&= r(s,a) + \\gamma \\max_{\\pi} \\left\\{ \\sum_{(s',a')} p(s_{t+1}=s',a_{t+1}=a' |s_t = s, a_t = a )  Q^{\\pi}(s',a')  \\right\\} \\\\\n",
        "&= r(s,a) + \\gamma \\max_{\\pi} \\left\\{ \\sum_{s'} p(s_{t+1}=s',a_{t+1}=\\pi(s) |s_t = s, a_t = a )  Q^{\\pi}(s',\\pi(s)) \\right\\} \\\\\n",
        "&= r(s,a) + \\gamma \\max_{\\pi} \\left\\{ \\sum_{s'} p(s_{t+1}=s' |s_t = s, a_t = a )  Q^{\\pi}(s',\\pi(s)) \\right\\} \\\\\n",
        "\\end{align}\n",
        "\n",
        "In order to exchange the maximum and the sum, one has to remark the following.\n",
        "We have the trivial inequality:\n",
        "\n",
        "\\begin{equation*}\n",
        "\\max_{\\pi} \\sum_{s'} p(s_{t+1}=s' |s_t = s, a_t = a )Q^{\\pi}(s',\\pi(s)) \\leq \\sum_{s'} p(s_{t+1}=s' |s_t = s, a_t = a ) \\max_{\\pi}Q^{\\pi}(s',\\pi(s)) \n",
        "\\end{equation*}\n",
        "\n",
        "Considering $\\bar{\\pi}(s') = \\arg\\max_{\\pi} Q^{\\pi}(s',\\pi(s))$, we have also:\n",
        "\\begin{align*}\n",
        " \\sum_{s'} p(s_{t+1}=s'|s_t = s, a_t = a ) \\max_{\\pi}Q^{\\pi}(s',\\pi(s)) &= \\sum_{s'} p(s_{t+1}=s' |s_t = s, a_t = a ) Q^{\\bar{\\pi}}(s',\\bar{\\pi}(s)) \\\\\n",
        " &\\leq \\max_{\\pi} \\sum_{s'} p(s_{t+1}=s' |s_t = s, a_t = a )Q^{\\pi}(s',\\pi(s)) \n",
        "\\end{align*}\n",
        "\n",
        "In the following, we use the fact that, for an optimal policy $\\pi^{*}$, $\\pi^{*}(s) = \\arg \\max_{a'} Q^{*}(s,a')$.\n",
        "We rewrite the initial equation as :\n",
        "\\begin{align}\n",
        "Q^{*}(s,a)&= r(s,a) + \\gamma  \\sum p(s_{t+1}=s' |s_t = s, a_t = a )\\max_{\\pi} Q^{\\pi}(s',\\pi(s)) \\\\\n",
        "&= r(s,a) + \\gamma \\sum(p(s_{t+1}=s' |s_t = s, a_t = a )\\max_{\\pi,a'} Q^{\\pi}(s',a') \\\\ \n",
        "&= r(s,a) + \\gamma \\sum(p(s_{t+1}=s' |s_t = s, a_t = a )\\max_{a'} Q^{*}(s',a') \\\\\n",
        "&=E_{s'\\sim \\pi^*(.|s,a)}[r(s,a)+\\gamma\\max_{a'}Q^{*}(s',a')].\n",
        "\\end{align}\n",
        "\n",
        "Then we define a loss:\n",
        "\n",
        "\\begin{equation*}\n",
        "\\mathcal{L}(\\theta)=E_{s' \\sim \\pi^*(.|s,a)}\\Vert r+\\gamma\\max_{a'}Q(s',a',\\theta)-Q(s,a,\\theta)\\Vert^{2}.\n",
        "\\end{equation*}\n",
        "\n",
        "This loss funtion is interesting because it equals zero when $r+\\gamma\\max_{a'}Q(s',a',\\theta) = Q(s,a,\\theta)$, i.e. when the optimal Bellman equation is verified for some $\\theta$."
      ]
    },
    {
      "cell_type": "markdown",
      "metadata": {
        "id": "9npTr_1pV39o",
        "colab_type": "text"
      },
      "source": [
        "***\n",
        "The DQN-learning algorithm relies on these derivations to train the parameters $\\theta$ of a Deep Neural Network:\n",
        "\n",
        "1. At the state $s_t$, select the action $a_t$ with best reward using $Q_t$ and store the results;\n",
        "\n",
        "2. Obtain the new state $s_{t+1}$ from the environment $p$;\n",
        "\n",
        "3. Store $(s_t,a_t,s_{t+1})$;\n",
        "\n",
        "4. Obtain $Q_{t+1}$ by minimizing  $\\mathcal{L}$ from a recovered batch from the previously stored results.\n",
        "\n",
        "***\n",
        "__Question 6__ Implement the class ```Memory``` that stores moves (in a replay buffer) via ```remember``` and provides a ```random_access``` to these. Specify a maximum memory size to avoid side effects. You can for example use a ```list()``` and set by default ```max_memory=100```."
      ]
    },
    {
      "cell_type": "code",
      "metadata": {
        "id": "OnBBY-A-V39o",
        "colab_type": "code",
        "colab": {}
      },
      "source": [
        "class Memory(object):\n",
        "    def __init__(self, max_memory=100):\n",
        "        self.max_memory = max_memory\n",
        "        self.memory = list()\n",
        "\n",
        "    def remember(self, m):\n",
        "        self.memory.append(m)\n",
        "        if len(self.memory)>self.max_memory:\n",
        "            del self.memory[0]\n",
        "            \n",
        "\n",
        "    def random_access(self):\n",
        "        alea = np.random.randint(0, len(self.memory), size=1)[0]\n",
        "        return self.memory[alea]"
      ],
      "execution_count": 0,
      "outputs": []
    },
    {
      "cell_type": "markdown",
      "metadata": {
        "id": "fGpsY9uOV39r",
        "colab_type": "text"
      },
      "source": [
        "***\n",
        "The pipeline we will use for training is given below:"
      ]
    },
    {
      "cell_type": "code",
      "metadata": {
        "id": "UAWtqP4SV39s",
        "colab_type": "code",
        "colab": {}
      },
      "source": [
        "def train(agent, env, epoch,prefix=''):\n",
        "    # Number of won games\n",
        "    score = 0\n",
        "    loss = 0\n",
        "\n",
        "    for e in range(epoch):\n",
        "        # At each epoch, we restart to a fresh game and get the initial state\n",
        "        state = env.reset()\n",
        "        # This assumes that the games will terminate\n",
        "        game_over = False\n",
        "\n",
        "        win = 0\n",
        "        lose = 0\n",
        "\n",
        "        while not game_over:\n",
        "            # The agent performs an action\n",
        "            action = agent.act(state)\n",
        "\n",
        "            # Apply an action to the environment, get the next state, the reward\n",
        "            # and if the games end\n",
        "            prev_state = state\n",
        "            state, reward, game_over = env.act(action)\n",
        "\n",
        "            # Update the counters\n",
        "            if reward > 0:\n",
        "                win = win + reward\n",
        "            if reward < 0:\n",
        "                lose = lose - reward\n",
        "\n",
        "            # Apply the reinforcement strategy\n",
        "            loss = agent.reinforce(prev_state, state,  action, reward, game_over)\n",
        "\n",
        "        # Save as a mp4\n",
        "        if e % 10 == 0:\n",
        "            env.draw(prefix+str(e))\n",
        "\n",
        "        # Update stats\n",
        "        score += win-lose\n",
        "\n",
        "        print(\"Epoch {:03d}/{:03d} | Loss {:.4f} | Win/lose count {}/{} ({})\"\n",
        "              .format(e, epoch, loss, win, lose, win-lose))\n",
        "        agent.save(name_weights=prefix+'model.h5',name_model=prefix+'model.json')"
      ],
      "execution_count": 0,
      "outputs": []
    },
    {
      "cell_type": "markdown",
      "metadata": {
        "id": "Dwd0jd7CV39v",
        "colab_type": "text"
      },
      "source": [
        "***\n",
        "__Question 7__ Implement the DQN training algorithm using a cascade of fully connected layers. You can use different learning rate, batch size or memory size parameters. In particular, the loss might oscillate while the player will start to win the games. You have to find a good criterium."
      ]
    },
    {
      "cell_type": "code",
      "metadata": {
        "id": "YPANgKvgV39x",
        "colab_type": "code",
        "colab": {}
      },
      "source": [
        "class DQN(Agent):\n",
        "    def __init__(self, grid_size,  epsilon = 0.1, memory_size=100, batch_size = 16,n_state=2):\n",
        "        super(DQN, self).__init__(epsilon = epsilon)\n",
        "\n",
        "        # Discount for Q learning\n",
        "        self.discount = 0.99\n",
        "        \n",
        "        self.grid_size = grid_size\n",
        "        \n",
        "        # number of state\n",
        "        self.n_state = n_state\n",
        "\n",
        "        # Memory\n",
        "        self.memory = Memory(memory_size)\n",
        "        \n",
        "        # Batch size when learning\n",
        "        self.batch_size = batch_size\n",
        "\n",
        "    def learned_act(self, s):\n",
        "        return np.argmax(self.model.predict(s.reshape([1,s.shape[0],s.shape[1],s.shape[2]]))[0,:])\n",
        "\n",
        "    def reinforce(self, s_, n_s_, a_, r_, game_over_):\n",
        "      # Two steps: first memorize the states, second learn from the pool\n",
        "        self.memory.remember([s_, n_s_, a_, r_, game_over_])\n",
        "        input_states = np.zeros((self.batch_size, 5, 5, self.n_state))\n",
        "        target_q = np.zeros((self.batch_size, 4))\n",
        "        \n",
        "        for i in range(self.batch_size):\n",
        "            s_, n_s_, a_, r_, game_over_  = self.memory.random_access()\n",
        "            target_q[i] =self.model.predict(s_.reshape([1,s_.shape[0],s_.shape[1],s_.shape[2]]))[0]\n",
        "            input_states[i] = s_\n",
        "            if game_over_:\n",
        "                target_q[i,a_] = r_\n",
        "            else:\n",
        "                target_q[i,a_] = r_  + self.discount*max(self.model.predict(n_s_.reshape([1,s_.shape[0],s_.shape[1],s_.shape[2]]))[0])\n",
        "        # HINT: Clip the target to avoid exploiding gradients.. -- clipping is a bit tighter\n",
        "        target_q = np.clip(target_q, -3, 3)\n",
        "        l = self.model.train_on_batch(input_states, target_q)\n",
        "\n",
        "        return l\n",
        "\n",
        "    def save(self,name_weights='model.h5',name_model='model.json'):\n",
        "        self.model.save_weights(name_weights, overwrite=True)\n",
        "        with open(name_model, \"w\") as outfile:\n",
        "            json.dump(self.model.to_json(), outfile)\n",
        "            \n",
        "    def load(self,name_weights='model.h5',name_model='model.json'):\n",
        "        with open(name_model, \"r\") as jfile:\n",
        "            model = model_from_json(json.load(jfile))\n",
        "        model.load_weights(name_weights)\n",
        "        model.compile(\"sgd\", \"mse\")\n",
        "        self.model = model\n",
        "\n",
        "        \n",
        "        \n",
        "        \n",
        "class DQN_FC(DQN):\n",
        "    def __init__(self, *args, lr=0.1,**kwargs):\n",
        "        super(DQN_FC, self).__init__( *args,**kwargs)\n",
        "\n",
        "        model = Sequential()\n",
        "        model.add(Flatten(input_shape=(5,5,self.n_state,)))\n",
        "        model.add(Dense(64,activation ='relu')) \n",
        "        model.add(Dense(64,activation ='relu')) \n",
        "        model.add(Dense(4))\n",
        "        model.compile(sgd(lr=lr, decay=1e-4, momentum=0.0), \"mse\")\n",
        "        print(model.summary())\n",
        "        self.model = model\n"
      ],
      "execution_count": 0,
      "outputs": []
    },
    {
      "cell_type": "code",
      "metadata": {
        "id": "NBlKWJitV391",
        "colab_type": "code",
        "outputId": "e9ea4fd7-5754-4f6b-ced3-a77050fab013",
        "colab": {
          "base_uri": "https://localhost:8080/",
          "height": 1000
        }
      },
      "source": [
        "epochs_train = 50 # Given the experiments I have made, this is not too much to overfit\n",
        "env = Environment(grid_size=size, max_time=T, temperature=0.3)\n",
        "agent = DQN_FC(size, lr=.1, epsilon = 0.1, memory_size=2000, batch_size = 32)\n",
        "train(agent, env, epochs_train, prefix='fc_train')\n",
        "HTML(display_videos('fc_train10.mp4'))"
      ],
      "execution_count": 14,
      "outputs": [
        {
          "output_type": "stream",
          "text": [
            "WARNING:tensorflow:From /usr/local/lib/python3.6/dist-packages/keras/backend/tensorflow_backend.py:66: The name tf.get_default_graph is deprecated. Please use tf.compat.v1.get_default_graph instead.\n",
            "\n",
            "WARNING:tensorflow:From /usr/local/lib/python3.6/dist-packages/keras/backend/tensorflow_backend.py:541: The name tf.placeholder is deprecated. Please use tf.compat.v1.placeholder instead.\n",
            "\n",
            "WARNING:tensorflow:From /usr/local/lib/python3.6/dist-packages/keras/backend/tensorflow_backend.py:4432: The name tf.random_uniform is deprecated. Please use tf.random.uniform instead.\n",
            "\n",
            "WARNING:tensorflow:From /usr/local/lib/python3.6/dist-packages/keras/optimizers.py:793: The name tf.train.Optimizer is deprecated. Please use tf.compat.v1.train.Optimizer instead.\n",
            "\n",
            "Model: \"sequential_1\"\n",
            "_________________________________________________________________\n",
            "Layer (type)                 Output Shape              Param #   \n",
            "=================================================================\n",
            "flatten_1 (Flatten)          (None, 50)                0         \n",
            "_________________________________________________________________\n",
            "dense_1 (Dense)              (None, 64)                3264      \n",
            "_________________________________________________________________\n",
            "dense_2 (Dense)              (None, 64)                4160      \n",
            "_________________________________________________________________\n",
            "dense_3 (Dense)              (None, 4)                 260       \n",
            "=================================================================\n",
            "Total params: 7,684\n",
            "Trainable params: 7,684\n",
            "Non-trainable params: 0\n",
            "_________________________________________________________________\n",
            "None\n",
            "WARNING:tensorflow:From /usr/local/lib/python3.6/dist-packages/keras/backend/tensorflow_backend.py:3005: The name tf.Session is deprecated. Please use tf.compat.v1.Session instead.\n",
            "\n",
            "WARNING:tensorflow:From /usr/local/lib/python3.6/dist-packages/keras/backend/tensorflow_backend.py:190: The name tf.get_default_session is deprecated. Please use tf.compat.v1.get_default_session instead.\n",
            "\n",
            "WARNING:tensorflow:From /usr/local/lib/python3.6/dist-packages/keras/backend/tensorflow_backend.py:197: The name tf.ConfigProto is deprecated. Please use tf.compat.v1.ConfigProto instead.\n",
            "\n",
            "WARNING:tensorflow:From /usr/local/lib/python3.6/dist-packages/keras/backend/tensorflow_backend.py:207: The name tf.global_variables is deprecated. Please use tf.compat.v1.global_variables instead.\n",
            "\n",
            "WARNING:tensorflow:From /usr/local/lib/python3.6/dist-packages/keras/backend/tensorflow_backend.py:216: The name tf.is_variable_initialized is deprecated. Please use tf.compat.v1.is_variable_initialized instead.\n",
            "\n",
            "WARNING:tensorflow:From /usr/local/lib/python3.6/dist-packages/keras/backend/tensorflow_backend.py:223: The name tf.variables_initializer is deprecated. Please use tf.compat.v1.variables_initializer instead.\n",
            "\n",
            "WARNING:tensorflow:From /usr/local/lib/python3.6/dist-packages/keras/backend/tensorflow_backend.py:1033: The name tf.assign_add is deprecated. Please use tf.compat.v1.assign_add instead.\n",
            "\n",
            "WARNING:tensorflow:From /usr/local/lib/python3.6/dist-packages/keras/backend/tensorflow_backend.py:1020: The name tf.assign is deprecated. Please use tf.compat.v1.assign instead.\n",
            "\n",
            "Epoch 000/050 | Loss 0.0040 | Win/lose count 3.5/7.0 (-3.5)\n",
            "Epoch 001/050 | Loss 0.0052 | Win/lose count 3.0/2.0 (1.0)\n",
            "Epoch 002/050 | Loss 0.0041 | Win/lose count 4.5/4.0 (0.5)\n",
            "Epoch 003/050 | Loss 0.0104 | Win/lose count 4.5/6.0 (-1.5)\n",
            "Epoch 004/050 | Loss 0.0127 | Win/lose count 5.0/5.0 (0.0)\n",
            "Epoch 005/050 | Loss 0.0062 | Win/lose count 1.5/1.0 (0.5)\n",
            "Epoch 006/050 | Loss 0.0029 | Win/lose count 4.0/4.0 (0.0)\n",
            "Epoch 007/050 | Loss 0.0027 | Win/lose count 3.0/8.0 (-5.0)\n",
            "Epoch 008/050 | Loss 0.0031 | Win/lose count 2.5/2.0 (0.5)\n",
            "Epoch 009/050 | Loss 0.0055 | Win/lose count 2.5/5.0 (-2.5)\n",
            "Epoch 010/050 | Loss 0.0109 | Win/lose count 2.5/2.0 (0.5)\n",
            "Epoch 011/050 | Loss 0.0042 | Win/lose count 3.0/1.0 (2.0)\n",
            "Epoch 012/050 | Loss 0.0123 | Win/lose count 3.0/0 (3.0)\n",
            "Epoch 013/050 | Loss 0.0056 | Win/lose count 5.0/1.0 (4.0)\n",
            "Epoch 014/050 | Loss 0.0554 | Win/lose count 2.0/1.0 (1.0)\n",
            "Epoch 015/050 | Loss 0.0511 | Win/lose count 4.0/1.0 (3.0)\n",
            "Epoch 016/050 | Loss 0.0318 | Win/lose count 3.0/3.0 (0.0)\n",
            "Epoch 017/050 | Loss 0.0730 | Win/lose count 8.0/5.0 (3.0)\n",
            "Epoch 018/050 | Loss 0.0051 | Win/lose count 4.5/1.0 (3.5)\n",
            "Epoch 019/050 | Loss 0.0048 | Win/lose count 11.0/1.0 (10.0)\n",
            "Epoch 020/050 | Loss 0.0020 | Win/lose count 6.5/0 (6.5)\n",
            "Epoch 021/050 | Loss 0.0026 | Win/lose count 3.0/4.0 (-1.0)\n",
            "Epoch 022/050 | Loss 0.0020 | Win/lose count 3.5/1.0 (2.5)\n",
            "Epoch 023/050 | Loss 0.0035 | Win/lose count 6.0/4.0 (2.0)\n",
            "Epoch 024/050 | Loss 0.0465 | Win/lose count 5.5/6.0 (-0.5)\n",
            "Epoch 025/050 | Loss 0.0016 | Win/lose count 10.0/1.0 (9.0)\n",
            "Epoch 026/050 | Loss 0.0034 | Win/lose count 5.5/2.0 (3.5)\n",
            "Epoch 027/050 | Loss 0.0073 | Win/lose count 8.5/3.0 (5.5)\n",
            "Epoch 028/050 | Loss 0.0032 | Win/lose count 6.0/0 (6.0)\n",
            "Epoch 029/050 | Loss 0.0019 | Win/lose count 4.0/3.0 (1.0)\n",
            "Epoch 030/050 | Loss 0.0084 | Win/lose count 8.0/2.0 (6.0)\n",
            "Epoch 031/050 | Loss 0.0043 | Win/lose count 10.5/3.0 (7.5)\n",
            "Epoch 032/050 | Loss 0.0474 | Win/lose count 3.5/1.0 (2.5)\n",
            "Epoch 033/050 | Loss 0.0076 | Win/lose count 9.5/2.0 (7.5)\n",
            "Epoch 034/050 | Loss 0.0010 | Win/lose count 11.0/1.0 (10.0)\n",
            "Epoch 035/050 | Loss 0.0020 | Win/lose count 14.0/3.0 (11.0)\n",
            "Epoch 036/050 | Loss 0.0063 | Win/lose count 16.0/3.0 (13.0)\n",
            "Epoch 037/050 | Loss 0.0035 | Win/lose count 8.0/1.0 (7.0)\n",
            "Epoch 038/050 | Loss 0.0068 | Win/lose count 10.5/3.0 (7.5)\n",
            "Epoch 039/050 | Loss 0.0028 | Win/lose count 6.5/1.0 (5.5)\n",
            "Epoch 040/050 | Loss 0.0027 | Win/lose count 4.0/4.0 (0.0)\n",
            "Epoch 041/050 | Loss 0.0024 | Win/lose count 9.5/3.0 (6.5)\n",
            "Epoch 042/050 | Loss 0.0057 | Win/lose count 12.0/3.0 (9.0)\n",
            "Epoch 043/050 | Loss 0.0061 | Win/lose count 5.5/5.0 (0.5)\n",
            "Epoch 044/050 | Loss 0.0589 | Win/lose count 4.0/2.0 (2.0)\n",
            "Epoch 045/050 | Loss 0.0019 | Win/lose count 7.0/2.0 (5.0)\n",
            "Epoch 046/050 | Loss 0.0022 | Win/lose count 6.0/3.0 (3.0)\n",
            "Epoch 047/050 | Loss 0.0051 | Win/lose count 4.0/0 (4.0)\n",
            "Epoch 048/050 | Loss 0.0027 | Win/lose count 10.0/2.0 (8.0)\n",
            "Epoch 049/050 | Loss 0.0012 | Win/lose count 20.0/5.0 (15.0)\n"
          ],
          "name": "stdout"
        },
        {
          "output_type": "execute_result",
          "data": {
            "text/html": [
              "<video alt=\"test\" controls>\n",
              "                <source src=\"data:video/mp4;base64,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\" type=\"video/mp4\" />\n",
              "             </video>"
            ],
            "text/plain": [
              "<IPython.core.display.HTML object>"
            ]
          },
          "metadata": {
            "tags": []
          },
          "execution_count": 14
        }
      ]
    },
    {
      "cell_type": "markdown",
      "metadata": {
        "id": "wJkemPN_V394",
        "colab_type": "text"
      },
      "source": [
        "Question 7 asks us to implement a DQN with a cascade of fully connected layers. It is precised in the question that we can test different learning rates, memory sizes and batch size parameters. It is important to mention that there are many other parameters that can influence the performance of the network. Indeed, one may simply wonder before starting coding : how many layers do I use in my network ? How many neurones by layer do I use ? \n",
        "\n",
        "Then, questions can be asked about the optimizer. SGD is proposed, but I could use Adam, Adagrad, or RMSprop. Indeed, Adam, Adagrad and RMSprop are optimized version of SGD. However, the enhanced results of Adam, Adagrad and RMSprop are proven in the convex case, and in practice we do not have this guarantee. \n",
        "\n",
        "Questions can also be asked about the parameters of SGD (decay, momentum, etc...). We will now discuss the parameters that appear in question 7 : learning rate, memory size, batch size. Since it will not be possible for me to test all the possible configurations, I will rather write remarks that appear relevant to me. \n",
        "\n",
        "We first discuss the initial learning rate. It is probably the most important hyperparameter to tune. Indeed, an initial learning rate too high may cause a divergence of the optimization process, whereas an initial learning too low means a very long optimization process. We have tested $lr = [0.01, 0.1, 1]$. Techniques have been proposed to efficiently tune the initial learning rate. A quick search on google writing \"efficiently tune initial learning rate\" gives plenty of results. \n",
        "\n",
        "The memory size, as suggested in its name, is the size of the replay buffer in which collected samples are stored. A small memory size is a too partial view of what the agent is doing. Given the test I made, a memory size of 100 is not sufficient, whereas it is the case for a memory size of 1000.\n",
        "\n",
        "The batch size is the number of training examples used in the estimate of the error gradient. Small batch sizes are used for two main reasons: 1) they are noisy, offering a regularizing effect and a lower generalization error and 2) they make it easier to fit one batch worth of training data in memory (i.e. when using a GPU). In practice, the default value of the batch size is often 32. A too small batch size ($<5$) has a tendency to make the learning unstable.\n",
        "\n",
        "For this exercice, we decided to use 2 fully-connected layer of 64 units. This choice has been made given the following of this miniproject, where a 2-layer CNN is studied. In order to try to establish a \"fair\" comparison with the future CNN, we chose an architecture for the fully-connected that leads to a total number of parameters close to the total number of paramaters of the future CNN."
      ]
    },
    {
      "cell_type": "markdown",
      "metadata": {
        "id": "n3TD2DbvV394",
        "colab_type": "text"
      },
      "source": [
        "***\n",
        "***\n",
        "__Question 8__ Implement the DQN training algorithm using a CNN (for example, 2 convolutional layers and one final fully connected layer)."
      ]
    },
    {
      "cell_type": "markdown",
      "metadata": {
        "id": "HSFItZi3RBqR",
        "colab_type": "text"
      },
      "source": [
        "This question asks us to use a CNN (2 convolutional layers and one final fully connected layer). Given the shape of the map on which the agent is walking, it seems to be a good idea to use a Conv2D layer. Indeed, since the map is a grid, it seems legitimate to think that operating convolutions on grid will provide good results. \n",
        "\n",
        "In numerical imaging, Conv2D layers are often followed by pooling layers (e.g. VGG19). I tried several architectures but did not find any big improvements. Dropout and batch normalisation have also been tested, and I get quite bad performances. In the Reinforcement Learning community, it is a well-known fact that dropout is often a bad idea and leads to unstable results."
      ]
    },
    {
      "cell_type": "code",
      "metadata": {
        "id": "AdRAElmaV395",
        "colab_type": "code",
        "colab": {}
      },
      "source": [
        "class DQN_CNN(DQN):\n",
        "    def __init__(self, *args,lr=0.1,**kwargs):\n",
        "        super(DQN_CNN, self).__init__(*args,**kwargs)\n",
        "        \n",
        "        model = Sequential()\n",
        "        model.add(Conv2D(64,(2,2),input_shape=(5,5,self.n_state,),activation='relu')) \n",
        "        model.add(Conv2D(32,(2,2),activation='relu')) \n",
        "        model.add(Flatten())\n",
        "        model.add(Dense(4))\n",
        "        model.compile(sgd(lr=lr, decay=1e-4, momentum=0.0), \"mse\")\n",
        "        self.model = model\n",
        "        "
      ],
      "execution_count": 0,
      "outputs": []
    },
    {
      "cell_type": "code",
      "metadata": {
        "id": "9f7WzyCBV396",
        "colab_type": "code",
        "outputId": "ebfc149b-5881-42e6-bd0f-51fc3e8b157b",
        "colab": {
          "base_uri": "https://localhost:8080/",
          "height": 1000
        }
      },
      "source": [
        "env = Environment(grid_size=size, max_time=T, temperature=0.3)\n",
        "agent = DQN_CNN(size, lr=.1, epsilon = 0.1, memory_size=2000, batch_size = 32)\n",
        "train(agent,env,epochs_train,prefix='cnn_train')\n",
        "HTML(display_videos('cnn_train10.mp4'))"
      ],
      "execution_count": 16,
      "outputs": [
        {
          "output_type": "stream",
          "text": [
            "Epoch 000/050 | Loss 0.0007 | Win/lose count 4.0/5.0 (-1.0)\n",
            "Epoch 001/050 | Loss 0.0009 | Win/lose count 1.5/5.0 (-3.5)\n",
            "Epoch 002/050 | Loss 0.0033 | Win/lose count 5.0/1.0 (4.0)\n",
            "Epoch 003/050 | Loss 0.0041 | Win/lose count 2.5/4.0 (-1.5)\n",
            "Epoch 004/050 | Loss 0.0159 | Win/lose count 1.5/2.0 (-0.5)\n",
            "Epoch 005/050 | Loss 0.0088 | Win/lose count 2.5/5.0 (-2.5)\n",
            "Epoch 006/050 | Loss 0.0036 | Win/lose count 3.5/3.0 (0.5)\n",
            "Epoch 007/050 | Loss 0.0268 | Win/lose count 4.0/0 (4.0)\n",
            "Epoch 008/050 | Loss 0.0058 | Win/lose count 2.5/5.0 (-2.5)\n",
            "Epoch 009/050 | Loss 0.0584 | Win/lose count 6.5/4.0 (2.5)\n",
            "Epoch 010/050 | Loss 0.0063 | Win/lose count 2.5/4.0 (-1.5)\n",
            "Epoch 011/050 | Loss 0.0043 | Win/lose count 3.0/0 (3.0)\n",
            "Epoch 012/050 | Loss 0.0016 | Win/lose count 8.0/0 (8.0)\n",
            "Epoch 013/050 | Loss 0.0006 | Win/lose count 4.0/0 (4.0)\n",
            "Epoch 014/050 | Loss 0.0028 | Win/lose count 7.0/6.0 (1.0)\n",
            "Epoch 015/050 | Loss 0.0029 | Win/lose count 7.0/3.0 (4.0)\n",
            "Epoch 016/050 | Loss 0.0547 | Win/lose count 7.0/1.0 (6.0)\n",
            "Epoch 017/050 | Loss 0.0016 | Win/lose count 7.0/0 (7.0)\n",
            "Epoch 018/050 | Loss 0.0010 | Win/lose count 10.5/1.0 (9.5)\n",
            "Epoch 019/050 | Loss 0.0031 | Win/lose count 6.0/1.0 (5.0)\n",
            "Epoch 020/050 | Loss 0.0023 | Win/lose count 4.5/3.0 (1.5)\n",
            "Epoch 021/050 | Loss 0.0023 | Win/lose count 5.5/0 (5.5)\n",
            "Epoch 022/050 | Loss 0.0034 | Win/lose count 8.0/3.0 (5.0)\n",
            "Epoch 023/050 | Loss 0.0549 | Win/lose count 12.5/1.0 (11.5)\n",
            "Epoch 024/050 | Loss 0.0012 | Win/lose count 5.5/3.0 (2.5)\n",
            "Epoch 025/050 | Loss 0.0013 | Win/lose count 12.0/4.0 (8.0)\n",
            "Epoch 026/050 | Loss 0.0011 | Win/lose count 15.5/3.0 (12.5)\n",
            "Epoch 027/050 | Loss 0.0039 | Win/lose count 12.0/3.0 (9.0)\n",
            "Epoch 028/050 | Loss 0.0021 | Win/lose count 10.0/0 (10.0)\n",
            "Epoch 029/050 | Loss 0.0021 | Win/lose count 18.5/3.0 (15.5)\n",
            "Epoch 030/050 | Loss 0.0024 | Win/lose count 9.0/0 (9.0)\n",
            "Epoch 031/050 | Loss 0.0489 | Win/lose count 14.0/1.0 (13.0)\n",
            "Epoch 032/050 | Loss 0.0103 | Win/lose count 8.0/3.0 (5.0)\n",
            "Epoch 033/050 | Loss 0.0029 | Win/lose count 1.5/1.0 (0.5)\n",
            "Epoch 034/050 | Loss 0.0022 | Win/lose count 13.0/1.0 (12.0)\n",
            "Epoch 035/050 | Loss 0.0013 | Win/lose count 12.5/4.0 (8.5)\n",
            "Epoch 036/050 | Loss 0.0028 | Win/lose count 10.0/1.0 (9.0)\n",
            "Epoch 037/050 | Loss 0.0031 | Win/lose count 8.0/3.0 (5.0)\n",
            "Epoch 038/050 | Loss 0.0014 | Win/lose count 8.5/3.0 (5.5)\n",
            "Epoch 039/050 | Loss 0.0016 | Win/lose count 7.5/3.0 (4.5)\n",
            "Epoch 040/050 | Loss 0.0013 | Win/lose count 21.5/1.0 (20.5)\n",
            "Epoch 041/050 | Loss 0.0013 | Win/lose count 14.0/3.0 (11.0)\n",
            "Epoch 042/050 | Loss 0.0019 | Win/lose count 13.0/2.0 (11.0)\n",
            "Epoch 043/050 | Loss 0.0084 | Win/lose count 11.0/2.0 (9.0)\n",
            "Epoch 044/050 | Loss 0.0017 | Win/lose count 18.0/4.0 (14.0)\n",
            "Epoch 045/050 | Loss 0.0026 | Win/lose count 15.5/3.0 (12.5)\n",
            "Epoch 046/050 | Loss 0.0037 | Win/lose count 12.5/3.0 (9.5)\n",
            "Epoch 047/050 | Loss 0.0026 | Win/lose count 14.0/2.0 (12.0)\n",
            "Epoch 048/050 | Loss 0.0019 | Win/lose count 7.5/0 (7.5)\n",
            "Epoch 049/050 | Loss 0.0453 | Win/lose count 16.5/2.0 (14.5)\n"
          ],
          "name": "stdout"
        },
        {
          "output_type": "execute_result",
          "data": {
            "text/html": [
              "<video alt=\"test\" controls>\n",
              "                <source src=\"data:video/mp4;base64,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\" type=\"video/mp4\" />\n",
              "             </video>"
            ],
            "text/plain": [
              "<IPython.core.display.HTML object>"
            ]
          },
          "metadata": {
            "tags": []
          },
          "execution_count": 16
        }
      ]
    },
    {
      "cell_type": "markdown",
      "metadata": {
        "id": "celU31XCV399",
        "colab_type": "text"
      },
      "source": [
        "***\n",
        "***\n",
        "__Question 9__ Test both algorithms and compare their performances. Which issue(s) do you observe? Observe also different behaviors by changing the temperature."
      ]
    },
    {
      "cell_type": "code",
      "metadata": {
        "id": "0yBL2JQRV399",
        "colab_type": "code",
        "colab": {
          "base_uri": "https://localhost:8080/",
          "height": 748
        },
        "outputId": "bb90746d-4b32-41fe-d643-af94ce39dcb3"
      },
      "source": [
        "env = Environment(grid_size=size, max_time=T,temperature=0.3)\n",
        "agent_cnn = DQN_CNN(size, lr=.1, epsilon = 0.1, memory_size=2000, batch_size = 32)\n",
        "agent_cnn.load(name_weights='cnn_trainmodel.h5',name_model='cnn_trainmodel.json')\n",
        "\n",
        "agent_fc = DQN_FC(size, lr=.1, epsilon = 0.1, memory_size=2000, batch_size = 32)\n",
        "agent_fc.load(name_weights='fc_trainmodel.h5',name_model='fc_trainmodel.json')\n",
        "print('Test of the CNN')\n",
        "test(agent_cnn,env,epochs_test,prefix='cnn_test')\n",
        "print('Test of the FC')\n",
        "test(agent_fc,env,epochs_test,prefix='fc_test')"
      ],
      "execution_count": 17,
      "outputs": [
        {
          "output_type": "stream",
          "text": [
            "Model: \"sequential_4\"\n",
            "_________________________________________________________________\n",
            "Layer (type)                 Output Shape              Param #   \n",
            "=================================================================\n",
            "flatten_4 (Flatten)          (None, 50)                0         \n",
            "_________________________________________________________________\n",
            "dense_6 (Dense)              (None, 64)                3264      \n",
            "_________________________________________________________________\n",
            "dense_7 (Dense)              (None, 64)                4160      \n",
            "_________________________________________________________________\n",
            "dense_8 (Dense)              (None, 4)                 260       \n",
            "=================================================================\n",
            "Total params: 7,684\n",
            "Trainable params: 7,684\n",
            "Non-trainable params: 0\n",
            "_________________________________________________________________\n",
            "None\n",
            "Test of the CNN\n",
            "Win/lose count 10.0/0. Average score (10.0)\n",
            "Win/lose count 1.0/0. Average score (5.5)\n",
            "Win/lose count 8.5/0. Average score (6.5)\n",
            "Win/lose count 8.0/0. Average score (6.875)\n",
            "Win/lose count 4.5/0. Average score (6.4)\n",
            "Win/lose count 13.0/0. Average score (7.5)\n",
            "Win/lose count 11.5/0. Average score (8.071428571428571)\n",
            "Win/lose count 0.5/0. Average score (7.125)\n",
            "Win/lose count 1.0/0. Average score (6.444444444444445)\n",
            "Win/lose count 10.0/0. Average score (6.8)\n",
            "Win/lose count 14.5/1.0. Average score (7.409090909090909)\n",
            "Final score: 7.409090909090909\n",
            "Test of the FC\n",
            "Win/lose count 6.0/0. Average score (6.0)\n",
            "Win/lose count 4.5/0. Average score (5.25)\n",
            "Win/lose count 0/0. Average score (3.5)\n",
            "Win/lose count 3.5/0. Average score (3.5)\n",
            "Win/lose count 2.0/0. Average score (3.2)\n",
            "Win/lose count 1.5/0. Average score (2.9166666666666665)\n",
            "Win/lose count 5.5/0. Average score (3.2857142857142856)\n",
            "Win/lose count 2.5/0. Average score (3.1875)\n",
            "Win/lose count 3.5/0. Average score (3.2222222222222223)\n",
            "Win/lose count 2.0/0. Average score (3.1)\n",
            "Win/lose count 4.0/1.0. Average score (3.090909090909091)\n",
            "Final score: 3.090909090909091\n"
          ],
          "name": "stdout"
        }
      ]
    },
    {
      "cell_type": "code",
      "metadata": {
        "id": "e9DjT0jRV3-A",
        "colab_type": "code",
        "colab": {
          "base_uri": "https://localhost:8080/",
          "height": 293
        },
        "outputId": "e6ee9c9e-0968-43d4-b2f7-ec76188b0a7c"
      },
      "source": [
        "HTML(display_videos('cnn_test10.mp4'))"
      ],
      "execution_count": 18,
      "outputs": [
        {
          "output_type": "execute_result",
          "data": {
            "text/html": [
              "<video alt=\"test\" controls>\n",
              "                <source src=\"data:video/mp4;base64,AAAAIGZ0eXBpc29tAAACAGlzb21pc28yYXZjMW1wNDEAAAAIZnJlZQAAGC9tZGF0AAACrQYF//+p3EXpvebZSLeWLNgg2SPu73gyNjQgLSBjb3JlIDE1MiByMjg1NCBlOWE1OTAzIC0gSC4yNjQvTVBFRy00IEFWQyBjb2RlYyAtIENvcHlsZWZ0IDIwMDMtMjAxNyAtIGh0dHA6Ly93d3cudmlkZW9sYW4ub3JnL3gyNjQuaHRtbCAtIG9wdGlvbnM6IGNhYmFjPTEgcmVmPTMgZGVibG9jaz0xOjA6MCBhbmFseXNlPTB4MToweDExMSBtZT1oZXggc3VibWU9NyBwc3k9MSBwc3lfcmQ9MS4wMDowLjAwIG1peGVkX3JlZj0xIG1lX3JhbmdlPTE2IGNocm9tYV9tZT0xIHRyZWxsaXM9MSA4eDhkY3Q9MCBjcW09MCBkZWFkem9uZT0yMSwxMSBmYXN0X3Bza2lwPTEgY2hyb21hX3FwX29mZnNldD00IHRocmVhZHM9MyBsb29rYWhlYWRfdGhyZWFkcz0xIHNsaWNlZF90aHJlYWRzPTAgbnI9MCBkZWNpbWF0ZT0xIGludGVybGFjZWQ9MCBibHVyYXlfY29tcGF0PTAgY29uc3RyYWluZWRfaW50cmE9MCBiZnJhbWVzPTMgYl9weXJhbWlkPTIgYl9hZGFwdD0xIGJfYmlhcz0wIGRpcmVjdD0xIHdlaWdodGI9MSBvcGVuX2dvcD0wIHdlaWdodHA9MiBrZXlpbnQ9MjUwIGtleWludF9taW49MjUgc2NlbmVjdXQ9NDAgaW50cmFfcmVmcmVzaD0wIHJjX2xvb2thaGVhZD00MCByYz1jcmYgbWJ0cmVlPTEgY3JmPTIzLjAgcWNvbXA9MC42MCBxcG1pbj0wIHFwbWF4PTY5IHFwc3RlcD00IGlwX3JhdGlvPTEuNDAgYXE9MToxLjAwAIAAAAK/ZYiEADf//vaH+BTZWBP+Wb/9DX/cj9uPrP1xYyEE31qvIejAGS+1H+b/rFFs6Z6UB/fgCJQAc24ZwpIoZ/8CmWxwvgUK/HEacX14Wn+DO2SLIzvUB7PoXnbMYh2m/ihijtx66DUJ2rZAT5R0trQCEOfu1TYulzoRwa7SHiyitNcmPwO5vgDvDCxQMz5z2YTP7szsYL1FgEJkJX5kbznRDALiGh1JmWnR0tgkfn6MG7QBycT/aLTuqBHnClL0Ujk8olVJ5C+Ur7qKCTqt9A8cFgnX2sj/in05OXevD9ZJzjNVQHcEPsUmlOhqQkYcMV3GSic5v9RCWt0B4FLf3rDeXOFCNTnuCrG3tKB/ew8Byl6DFLT7k6KF52Epd8tfBX0EYP3nJpKZDe5Rx4wbk5kdnBHKOdOVEfQgCbT/vJtmlvzMP0qhvt/JSgR2TeO9mUgCum0KKir25Cnk4H6mssUQr6vM4JoGBKdgTlbH1WQj0AOMB+XKg5rQGacHjeNITnYc5ETVGg++Zvtr6t+xQAOiyiNoy13PKfDVMWjuYAioV6MD0op6sVB9fv6DEEgL8vT1+kw8wXvwYnNZCiivyjwTewvdJE0NtXTp3Z9jHgCmQsKm+haJy3PfxY9v1xEZdEp1kwCP0yb5LDIl4m3aqxyV9P1FoGrR2iewLT3LAFnCjGweEiRL2yKkJof1OnqN02Pmu2rt2hyXnRGuo9EJExsTBw7R164sPhQYUyqAct1XgAJr27IOzplnZynr1D8aA3NEqheD8RoHe8iuFTsMod++NUpv9pSC6eROQ9G/fX5yheOL4ExPPxLHKnP5cYhSqxc7wAunEBtHv5z2isLoR6x676qTyTGkwh+6qR7+Y2gYJZEO93z5jpeTgjXrzqU8mXGzyWLgQDI8b39/UUYGe+U3+aZ+RW7UBeppa5JpzAAm4QAAABZBmiNsQ3/+p4QAB/fYP5tIQFZltdhAAAAAD0GeQXiFfwAGmeTeaII40wAAAA4BnmJqQr8ABpiQzJuU/gAAABpBmmRJqEFomUwIb//+p4QAC+0if6rfMfjFwQAAAB9BmoZJ4QpSZTBREsO//qmWAAkBR1CDNAp9GPrwe4F/AAAAEAGepWpCvwAOgz5jdDkg6nkAAAAgQZqqSeEOiZTAhv/+p4QAKx6Mh6OJ/lslLqu4imK4bMEAAAAWQZ7IRRU8L/8AGcVNDQxP3awqlRVF/AAAABABnud0Qr8AFizRInxZikZwAAAADwGe6WpCvwAiuxHkwPXupwAAAB1Bmu1JqEFomUwIb//+p4QAQ0fc9lwf72NrQCN+QAAAABBBnwtFESwr/wA3TtP8PV3QAAAAEAGfLGpCvwA3SVsYQNPsw+EAAAAXQZsxSahBbJlMCGf//p4QALD3waocZDEAAAAOQZ9PRRUsL/8AGwEW8WEAAAAPAZ9udEK/ACS7jujtvhZBAAAAEAGfcGpCvwA3SVsXq7Dkw0AAAAAZQZtySahBbJlMCG///qeEACx+6nH+H1bcGwAAABlBm5NJ4QpSZTAhv/6nhAArXxp0FazKa/mAAAAAKEGbtknhDomUwIb//qeEAGJ9YbmWVbZT8CktA/gUy2jlC+tLaCNHUqAAAAASQZ/URRE8K/8AT6yDeApH17nbAAAAEAGf9WpCvwBPrHjlf24fgsAAAAAyQZv6SahBaJlMCGf//p4QAk3xD/IRN6fiEd4v/+IRImln//EF+TrP/+X81Ec7/dq/UHEAAAASQZ4YRREsL/8AWtllFpq2dwihAAAADwGeN3RCvwB5rFYwhVquwAAAABABnjlqQr8AVCwjyXM+SduBAAAAGEGaO0moQWyZTAhn//6eEAJqcI5+l/cl8wAAABhBmlxJ4QpSZTAhv/6nhACi4rSCET/LbTMAAAAeQZp+SeEOiZTBTRMM//6eEAKP7pvcAOU85fEVdEz5AAAAEAGenWpCvwCG5o3mmKtpE0AAAAAYQZqfSeEPJlMCGf/+nhABr19xoXTfdbf8AAAAGUGaoEnhDyZTAhv//qeEAHEB4U6zp91t+YEAAAAfQZrCSeEPJlMFETwz//6eEALBXua45+j7g7L+/m2xYAAAAA8BnuFqQr8Akuzy3DZtTQsAAAAYQZrjSeEPJlMCGf/+nhAEMOEc/RgOzPsqAAAAGEGbBEnhDyZTAhv//qeEARX46Y/w+rbZZwAAAB9BmyZJ4Q8mUwURPDf//qeEAcEPE1xqg56J/Pg8vC45AAAAEAGfRWpCvwFRsiE3GfXpqbkAAAAeQZtISeEPJlMFPDf//qeEBQhWzE/1D7jp8IZxlpvxAAAAEAGfZ2pCvwH5tDJuM+vPDKgAAAAYQZtpSeEPJlMCG//+p4QFL406CtZjZ8MWAAAAHkGbi0nhDyZTBRE8N//+p4QEr7MfWluYT1sxQjwKLwAAABABn6pqQr8B67L9UfMfi2DAAAAAGUGbrEnhDyZTAh3//qmWAMv486WdHUuyZUAAAAAbQZvPSeEPJlMCHf/+qZYAxHo5pZ0dSStvepZRAAAAEkGf7UURPCv/AS6UAQCmAcfbQQAAABABng5qQr8BJtohNxn16aspAAAAGUGaEUmoQWiZTBTw7/6plgC9ezH64AOHgtoAAAAQAZ4wakK/ASaWQw+gJBxNmAAAABJBmjVJ4QpSZTAh3/6plgAAlYEAAAATQZ5TRTRML/8AjvoIpSOmcsWgbgAAABABnnJ0Qr8AyLybytlD0e/AAAAAEAGedGpCvwDIgsa95pWbUkEAAAATQZp5SahBaJlMCHf//qmWAACVgAAAAB1BnpdFESwv/wDVbT3Msq7VZzLIN23Mqg+dQWH58QAAABABnrZ0Qr8BJvUSJ8WYo1ZRAAAAEAGeuGpCvwEmlkMPoCQcTZgAAAATQZq9SahBbJlMCHf//qmWAACVgQAAABNBnttFFSwv/wCO+gilI6ZyxaBuAAAAEAGe+nRCvwDIvJvK2UPR78EAAAAQAZ78akK/AMiCxr3mlZtSQQAAABNBmuFJqEFsmUwId//+qZYAAJWAAAAAHUGfH0UVLC//ANVtPcyyrtVnMsg3bcyqD51BYfnwAAAAEAGfPnRCvwEm9RInxZijVlEAAAAQAZ8gakK/ASaWQw+gJBxNmAAAABNBmyVJqEFsmUwId//+qZYAAJWBAAAAE0GfQ0UVLC//AI76CKUjpnLFoG4AAAAQAZ9idEK/AMi8m8rZQ9HvwQAAABABn2RqQr8AyILGveaVm1JBAAAAE0GbaUmoQWyZTAh3//6plgAAlYEAAAAdQZ+HRRUsL/8A1W09zLKu1WcyyDdtzKoPnUFh+fEAAAAQAZ+mdEK/ASb1EifFmKNWUAAAABABn6hqQr8BJpZDD6AkHE2YAAAAE0GbrUmoQWyZTAh3//6plgAAlYEAAAATQZ/LRRUsL/8AjvoIpSOmcsWgbgAAABABn+p0Qr8AyLybytlD0e/AAAAAEAGf7GpCvwDIgsa95pWbUkEAAAATQZvxSahBbJlMCHf//qmWAACVgQAAAB1Bng9FFSwv/wDVbT3Msq7VZzLIN23Mqg+dQWH58QAAABABni50Qr8BJvUSJ8WYo1ZQAAAAEAGeMGpCvwEmlkMPoCQcTZgAAAATQZo1SahBbJlMCHf//qmWAACVgQAAABNBnlNFFSwv/wCO+gilI6ZyxaBuAAAAEAGecnRCvwDIvJvK2UPR78AAAAAQAZ50akK/AMiCxr3mlZtSQQAAABNBmnlJqEFsmUwId//+qZYAAJWAAAAAHUGel0UVLC//ANVtPcyyrtVnMsg3bcyqD51BYfnxAAAAEAGetnRCvwEm9RInxZijVlEAAAAQAZ64akK/ASaWQw+gJBxNmAAAABNBmr1JqEFsmUwId//+qZYAAJWBAAAAE0Ge20UVLC//AI76CKUjpnLFoG4AAAAQAZ76dEK/AMi8m8rZQ9HvwQAAABABnvxqQr8AyILGveaVm1JBAAAAE0Ga4UmoQWyZTAh3//6plgAAlYAAAAAdQZ8fRRUsL/8A1W09zLKu1WcyyDdtzKoPnUFh+fAAAAAQAZ8+dEK/ASb1EifFmKNWUQAAABABnyBqQr8BJpZDD6AkHE2YAAAAE0GbJUmoQWyZTAh3//6plgAAlYEAAAATQZ9DRRUsL/8AjvoIpSOmcsWgbgAAABABn2J0Qr8AyLybytlD0e/BAAAAEAGfZGpCvwDIgsa95pWbUkEAAAATQZtpSahBbJlMCHf//qmWAACVgQAAAB1Bn4dFFSwv/wDVbT3Msq7VZzLIN23Mqg+dQWH58QAAABABn6Z0Qr8BJvUSJ8WYo1ZQAAAAEAGfqGpCvwEmlkMPoCQcTZgAAAATQZutSahBbJlMCHf//qmWAACVgQAAABNBn8tFFSwv/wCO+gilI6ZyxaBuAAAAEAGf6nRCvwDIvJvK2UPR78AAAAAQAZ/sakK/AMiCxr3mlZtSQQAAABNBm/FJqEFsmUwId//+qZYAAJWBAAAAHUGeD0UVLC//ANVtPcyyrtVnMsg3bcyqD51BYfnxAAAAEAGeLnRCvwEm9RInxZijVlAAAAAQAZ4wakK/ASaWQw+gJBxNmAAAABNBmjVJqEFsmUwId//+qZYAAJWBAAAAE0GeU0UVLC//AI76CKUjpnLFoG4AAAAQAZ5ydEK/AMi8m8rZQ9HvwAAAABABnnRqQr8AyILGveaVm1JBAAAAE0GaeUmoQWyZTAh3//6plgAAlYAAAAAdQZ6XRRUsL/8A1W09zLKu1WcyyDdtzKoPnUFh+fEAAAAQAZ62dEK/ASb1EifFmKNWUQAAABABnrhqQr8BJpZDD6AkHE2YAAAAE0GavUmoQWyZTAh3//6plgAAlYEAAAATQZ7bRRUsL/8AjvoIpSOmcsWgbgAAABABnvp0Qr8AyLybytlD0e/BAAAAEAGe/GpCvwDIgsa95pWbUkEAAAATQZrhSahBbJlMCHf//qmWAACVgAAAAB1Bnx9FFSwv/wDVbT3Msq7VZzLIN23Mqg+dQWH58AAAABABnz50Qr8BJvUSJ8WYo1ZRAAAAEAGfIGpCvwEmlkMPoCQcTZgAAAATQZslSahBbJlMCHf//qmWAACVgQAAABNBn0NFFSwv/wCO+gilI6ZyxaBuAAAAEAGfYnRCvwDIvJvK2UPR78EAAAAQAZ9kakK/AMiCxr3mlZtSQQAAABNBm2lJqEFsmUwId//+qZYAAJWBAAAAHUGfh0UVLC//ANVtPcyyrtVnMsg3bcyqD51BYfnxAAAAEAGfpnRCvwEm9RInxZijVlAAAAAQAZ+oakK/ASaWQw+gJBxNmAAAABNBm61JqEFsmUwId//+qZYAAJWBAAAAE0Gfy0UVLC//AI76CKUjpnLFoG4AAAAQAZ/qdEK/AMi8m8rZQ9HvwAAAABABn+xqQr8AyILGveaVm1JBAAAAE0Gb8UmoQWyZTAh3//6plgAAlYEAAAAdQZ4PRRUsL/8A1W09zLKu1WcyyDdtzKoPnUFh+fEAAAAQAZ4udEK/ASb1EifFmKNWUAAAABABnjBqQr8BJpZDD6AkHE2YAAAAE0GaNUmoQWyZTAh3//6plgAAlYEAAAATQZ5TRRUsL/8AjvoIpSOmcsWgbgAAABABnnJ0Qr8AyLybytlD0e/AAAAAEAGedGpCvwDIgsa95pWbUkEAAAATQZp5SahBbJlMCHf//qmWAACVgAAAAB1BnpdFFSwv/wDVbT3Msq7VZzLIN23Mqg+dQWH58QAAABABnrZ0Qr8BJvUSJ8WYo1ZRAAAAEAGeuGpCvwEmlkMPoCQcTZgAAAATQZq9SahBbJlMCHf//qmWAACVgQAAABNBnttFFSwv/wCO+gilI6ZyxaBuAAAAEAGe+nRCvwDIvJvK2UPR78EAAAAQAZ78akK/AMiCxr3mlZtSQQAAABNBmuFJqEFsmUwId//+qZYAAJWAAAAAHUGfH0UVLC//ANVtPcyyrtVnMsg3bcyqD51BYfnwAAAAEAGfPnRCvwEm9RInxZijVlEAAAAQAZ8gakK/ASaWQw+gJBxNmAAAABNBmyVJqEFsmUwId//+qZYAAJWBAAAAE0GfQ0UVLC//AI76CKUjpnLFoG4AAAAQAZ9idEK/AMi8m8rZQ9HvwQAAABABn2RqQr8AyILGveaVm1JBAAAAE0GbaUmoQWyZTAh3//6plgAAlYEAAAAdQZ+HRRUsL/8A1W09zLKu1WcyyDdtzKoPnUFh+fEAAAAQAZ+mdEK/ASb1EifFmKNWUAAAABABn6hqQr8BJpZDD6AkHE2YAAAAE0GbrUmoQWyZTAh3//6plgAAlYEAAAATQZ/LRRUsL/8AjvoIpSOmcsWgbgAAABABn+p0Qr8AyLybytlD0e/AAAAAEAGf7GpCvwDIgsa95pWbUkEAAAATQZvxSahBbJlMCHf//qmWAACVgQAAAB1Bng9FFSwv/wDVbT3Msq7VZzLIN23Mqg+dQWH58QAAABABni50Qr8BJvUSJ8WYo1ZQAAAAEAGeMGpCvwEmlkMPoCQcTZgAAAATQZo1SahBbJlMCHf//qmWAACVgQAAABNBnlNFFSwv/wCO+gilI6ZyxaBuAAAAEAGecnRCvwDIvJvK2UPR78AAAAAQAZ50akK/AMiCxr3mlZtSQQAAABNBmnlJqEFsmUwId//+qZYAAJWAAAAAHUGel0UVLC//ANVtPcyyrtVnMsg3bcyqD51BYfnxAAAAEAGetnRCvwEm9RInxZijVlEAAAAQAZ64akK/ASaWQw+gJBxNmAAAABNBmr1JqEFsmUwId//+qZYAAJWBAAAAE0Ge20UVLC//AI76CKUjpnLFoG4AAAAQAZ76dEK/AMi8m8rZQ9HvwQAAABABnvxqQr8AyILGveaVm1JBAAAAEkGa4UmoQWyZTAhv//6nhAABJwAAAB1Bnx9FFSwv/wDVbT3Msq7VZzLIN23Mqg+dQWH58AAAABABnz50Qr8BJvUSJ8WYo1ZRAAAAEAGfIGpCvwEmlkMPoCQcTZgAAAASQZslSahBbJlMCGf//p4QAAR9AAAAE0GfQ0UVLC//AI76CKUjpnLFoG4AAAAQAZ9idEK/AMi8m8rZQ9HvwQAAABABn2RqQr8AyILGveaVm1JBAAAAGkGbaUuoQhBbJEYIKAfyAf2HgCFf/jhAABFxAAAAM0Gfh0UVLC//AgHc6kvbMwq5gOgatakrzh4FNaIxOZZBu25lUAutqnx1mVqLU/GaiMMmYQAAABABn6Z0Qr8BJvUSJ8WYo1ZQAAAAIwGfqGpCvwKvY+1BxN2qw0km5aqbo8prRNpFDSuCYr4DdWWzAAAMSG1vb3YAAABsbXZoZAAAAAAAAAAAAAAAAAAAA+gAAB+QAAEAAAEAAAAAAAAAAAAAAAABAAAAAAAAAAAAAAAAAAAAAQAAAAAAAAAAAAAAAAAAQAAAAAAAAAAAAAAAAAAAAAAAAAAAAAAAAAAAAAAAAAIAAAtydHJhawAAAFx0a2hkAAAAAwAAAAAAAAAAAAAAAQAAAAAAAB+QAAAAAAAAAAAAAAAAAAAAAAABAAAAAAAAAAAAAAAAAAAAAQAAAAAAAAAAAAAAAAAAQAAAAAEQAAABEAAAAAAAJGVkdHMAAAAcZWxzdAAAAAAAAAABAAAfkAAABAAAAQAAAAAK6m1kaWEAAAAgbWRoZAAAAAAAAAAAAAAAAAAAMgAAAZQAVcQAAAAAAC1oZGxyAAAAAAAAAAB2aWRlAAAAAAAAAAAAAAAAVmlkZW9IYW5kbGVyAAAACpVtaW5mAAAAFHZtaGQAAAABAAAAAAAAAAAAAAAkZGluZgAAABxkcmVmAAAAAAAAAAEAAAAMdXJsIAAAAAEAAApVc3RibAAAAJVzdHNkAAAAAAAAAAEAAACFYXZjMQAAAAAAAAABAAAAAAAAAAAAAAAAAAAAAAEQARAASAAAAEgAAAAAAAAAAQAAAAAAAAAAAAAAAAAAAAAAAAAAAAAAAAAAAAAAAAAAABj//wAAAC9hdmNDAfQADf/hABdn9AANkZsoIhHQgAAAAwCAAAAZB4oUywEABWjr48RIAAAAGHN0dHMAAAAAAAAAAQAAAMoAAAIAAAAAFHN0c3MAAAAAAAAAAQAAAAEAAAYgY3R0cwAAAAAAAADCAAAAAQAABAAAAAABAAAIAAAAAAIAAAIAAAAAAQAABAAAAAABAAAGAAAAAAEAAAIAAAAAAQAACgAAAAABAAAEAAAAAAEAAAAAAAAAAQAAAgAAAAABAAAIAAAAAAIAAAIAAAAAAQAACgAAAAABAAAEAAAAAAEAAAAAAAAAAQAAAgAAAAACAAAEAAAAAAEAAAgAAAAAAgAAAgAAAAABAAAKAAAAAAEAAAQAAAAAAQAAAAAAAAABAAACAAAAAAIAAAQAAAAAAQAABgAAAAABAAACAAAAAAIAAAQAAAAAAQAABgAAAAABAAACAAAAAAIAAAQAAAAAAQAABgAAAAABAAACAAAAAAEAAAYAAAAAAQAAAgAAAAABAAAEAAAAAAEAAAYAAAAAAQAAAgAAAAABAAAEAAAAAAEAAAgAAAAAAgAAAgAAAAABAAAGAAAAAAEAAAIAAAAAAQAACgAAAAABAAAEAAAAAAEAAAAAAAAAAQAAAgAAAAABAAAKAAAAAAEAAAQAAAAAAQAAAAAAAAABAAACAAAAAAEAAAoAAAAAAQAABAAAAAABAAAAAAAAAAEAAAIAAAAAAQAACgAAAAABAAAEAAAAAAEAAAAAAAAAAQAAAgAAAAABAAAKAAAAAAEAAAQAAAAAAQAAAAAAAAABAAACAAAAAAEAAAoAAAAAAQAABAAAAAABAAAAAAAAAAEAAAIAAAAAAQAACgAAAAABAAAEAAAAAAEAAAAAAAAAAQAAAgAAAAABAAAKAAAAAAEAAAQAAAAAAQAAAAAAAAABAAACAAAAAAEAAAoAAAAAAQAABAAAAAABAAAAAAAAAAEAAAIAAAAAAQAACgAAAAABAAAEAAAAAAEAAAAAAAAAAQAAAgAAAAABAAAKAAAAAAEAAAQAAAAAAQAAAAAAAAABAAACAAAAAAEAAAoAAAAAAQAABAAAAAABAAAAAAAAAAEAAAIAAAAAAQAACgAAAAABAAAEAAAAAAEAAAAAAAAAAQAAAgAAAAABAAAKAAAAAAEAAAQAAAAAAQAAAAAAAAABAAACAAAAAAEAAAoAAAAAAQAABAAAAAABAAAAAAAAAAEAAAIAAAAAAQAACgAAAAABAAAEAAAAAAEAAAAAAAAAAQAAAgAAAAABAAAKAAAAAAEAAAQAAAAAAQAAAAAAAAABAAACAAAAAAEAAAoAAAAAAQAABAAAAAABAAAAAAAAAAEAAAIAAAAAAQAACgAAAAABAAAEAAAAAAEAAAAAAAAAAQAAAgAAAAABAAAKAAAAAAEAAAQAAAAAAQAAAAAAAAABAAACAAAAAAEAAAoAAAAAAQAABAAAAAABAAAAAAAAAAEAAAIAAAAAAQAACgAAAAABAAAEAAAAAAEAAAAAAAAAAQAAAgAAAAABAAAKAAAAAAEAAAQAAAAAAQAAAAAAAAABAAACAAAAAAEAAAoAAAAAAQAABAAAAAABAAAAAAAAAAEAAAIAAAAAAQAACgAAAAABAAAEAAAAAAEAAAAAAAAAAQAAAgAAAAABAAAKAAAAAAEAAAQAAAAAAQAAAAAAAAABAAACAAAAAAEAAAoAAAAAAQAABAAAAAABAAAAAAAAAAEAAAIAAAAAAQAACgAAAAABAAAEAAAAAAEAAAAAAAAAAQAAAgAAAAABAAAKAAAAAAEAAAQAAAAAAQAAAAAAAAABAAACAAAAAAEAAAoAAAAAAQAABAAAAAABAAAAAAAAAAEAAAIAAAAAAQAACgAAAAABAAAEAAAAAAEAAAAAAAAAAQAAAgAAAAABAAAKAAAAAAEAAAQAAAAAAQAAAAAAAAABAAACAAAAAAEAAAoAAAAAAQAABAAAAAABAAAAAAAAAAEAAAIAAAAAAQAACgAAAAABAAAEAAAAAAEAAAAAAAAAAQAAAgAAAAABAAAKAAAAAAEAAAQAAAAAAQAAAAAAAAABAAACAAAAAAEAAAoAAAAAAQAABAAAAAABAAAAAAAAAAEAAAIAAAAAAQAACgAAAAABAAAEAAAAAAEAAAAAAAAAAQAAAgAAAAABAAAKAAAAAAEAAAQAAAAAAQAAAAAAAAABAAACAAAAABxzdHNjAAAAAAAAAAEAAAABAAAAygAAAAEAAAM8c3RzegAAAAAAAAAAAAAAygAABXQAAAAaAAAAEwAAABIAAAAeAAAAIwAAABQAAAAkAAAAGgAAABQAAAATAAAAIQAAABQAAAAUAAAAGwAAABIAAAATAAAAFAAAAB0AAAAdAAAALAAAABYAAAAUAAAANgAAABYAAAATAAAAFAAAABwAAAAcAAAAIgAAABQAAAAcAAAAHQAAACMAAAATAAAAHAAAABwAAAAjAAAAFAAAACIAAAAUAAAAHAAAACIAAAAUAAAAHQAAAB8AAAAWAAAAFAAAAB0AAAAUAAAAFgAAABcAAAAUAAAAFAAAABcAAAAhAAAAFAAAABQAAAAXAAAAFwAAABQAAAAUAAAAFwAAACEAAAAUAAAAFAAAABcAAAAXAAAAFAAAABQAAAAXAAAAIQAAABQAAAAUAAAAFwAAABcAAAAUAAAAFAAAABcAAAAhAAAAFAAAABQAAAAXAAAAFwAAABQAAAAUAAAAFwAAACEAAAAUAAAAFAAAABcAAAAXAAAAFAAAABQAAAAXAAAAIQAAABQAAAAUAAAAFwAAABcAAAAUAAAAFAAAABcAAAAhAAAAFAAAABQAAAAXAAAAFwAAABQAAAAUAAAAFwAAACEAAAAUAAAAFAAAABcAAAAXAAAAFAAAABQAAAAXAAAAIQAAABQAAAAUAAAAFwAAABcAAAAUAAAAFAAAABcAAAAhAAAAFAAAABQAAAAXAAAAFwAAABQAAAAUAAAAFwAAACEAAAAUAAAAFAAAABcAAAAXAAAAFAAAABQAAAAXAAAAIQAAABQAAAAUAAAAFwAAABcAAAAUAAAAFAAAABcAAAAhAAAAFAAAABQAAAAXAAAAFwAAABQAAAAUAAAAFwAAACEAAAAUAAAAFAAAABcAAAAXAAAAFAAAABQAAAAXAAAAIQAAABQAAAAUAAAAFwAAABcAAAAUAAAAFAAAABcAAAAhAAAAFAAAABQAAAAXAAAAFwAAABQAAAAUAAAAFwAAACEAAAAUAAAAFAAAABcAAAAXAAAAFAAAABQAAAAWAAAAIQAAABQAAAAUAAAAFgAAABcAAAAUAAAAFAAAAB4AAAA3AAAAFAAAACcAAAAUc3RjbwAAAAAAAAABAAAAMAAAAGJ1ZHRhAAAAWm1ldGEAAAAAAAAAIWhkbHIAAAAAAAAAAG1kaXJhcHBsAAAAAAAAAAAAAAAALWlsc3QAAAAlqXRvbwAAAB1kYXRhAAAAAQAAAABMYXZmNTcuODMuMTAw\" type=\"video/mp4\" />\n",
              "             </video>"
            ],
            "text/plain": [
              "<IPython.core.display.HTML object>"
            ]
          },
          "metadata": {
            "tags": []
          },
          "execution_count": 18
        }
      ]
    },
    {
      "cell_type": "code",
      "metadata": {
        "id": "YxYQIaaNV3-D",
        "colab_type": "code",
        "colab": {
          "base_uri": "https://localhost:8080/",
          "height": 293
        },
        "outputId": "36d2abd4-e0de-4160-e765-f4973c48a616"
      },
      "source": [
        "HTML(display_videos('fc_test10.mp4'))"
      ],
      "execution_count": 19,
      "outputs": [
        {
          "output_type": "execute_result",
          "data": {
            "text/html": [
              "<video alt=\"test\" controls>\n",
              "                <source src=\"data:video/mp4;base64,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\" type=\"video/mp4\" />\n",
              "             </video>"
            ],
            "text/plain": [
              "<IPython.core.display.HTML object>"
            ]
          },
          "metadata": {
            "tags": []
          },
          "execution_count": 19
        }
      ]
    },
    {
      "cell_type": "markdown",
      "metadata": {
        "id": "7zyvYMBhV3-F",
        "colab_type": "text"
      },
      "source": [
        "When we compare the two networks, the CNN performs best. This could have been guessed during the training phase, since the CNN achieved better result than the fully connected network. We now change the temperature and we set the other parameters to the value that appears in this notebook. Note that we have kept the same training (for a temperature of 0.3) and we change the temperature only for the testing part. We obtain :\n",
        "\n",
        " |    Temperature    |   Final test score FC (average over several epochs)|Final test score CNN (average over several epochs)|\n",
        "| :------------ | :-------------: | -------------: | \n",
        "|  0.1        | 1.5    |     2   |\n",
        "|  0.2         |   2.5      |  4 |\n",
        "|  0.3        |  3.5   |   5.5  |\n",
        "|  0.4           | 4  |7.5      |\n",
        "|  0.5         |    5  |  10.5 |\n",
        "|  0.6         |   6    |  12 |\n",
        "|  0.7         |  8  |  15   |\n",
        "|  0.8        |   11      |    20 |\n",
        "|  0.9        |   14   |   21 |\n",
        "\n",
        "As we can see, the performance of the CNN is better than the one of the fully connected network. This gap is increasing with the temperature. Indeed, with a high temperature, the agent finds a lot of positive reward positions around him.\n",
        "\n",
        "However, and it will be the point of question 10, the algorithm tends to not explore the map, because the agent does not have a vision of positive reward blocks far away. Hence, it does not try to explore the map deeply enough, and may go back and forth between two positions on the map."
      ]
    },
    {
      "cell_type": "markdown",
      "metadata": {
        "id": "9HOKro1oV3-F",
        "colab_type": "text"
      },
      "source": [
        "***\n",
        "\n",
        "The algorithm tends to not explore the map which can be an issue. We propose two ideas in order to encourage exploration:\n",
        "1. Incorporating a decreasing $\\epsilon$-greedy exploration. You can use the method ```set_epsilon```\n",
        "2. Append via the environment a new state that describes if a cell has been visited or not\n",
        "\n",
        "***\n",
        "__Question 10__ Design a new ```train_explore``` function and environment class ```EnvironmentExploring``` to tackle the issue of exploration.\n",
        "\n"
      ]
    },
    {
      "cell_type": "code",
      "metadata": {
        "id": "pC1G_u2tV3-G",
        "colab_type": "code",
        "colab": {}
      },
      "source": [
        "def train_explore(agent,env,epoch,decay_parameter_epsilon=0.3,prefix=''):\n",
        "    # Number of won games\n",
        "    score = 0\n",
        "    loss = 0\n",
        "\n",
        "    for e in range(epoch):\n",
        "        # At each epoch, we start a new game\n",
        "        state = env.reset()\n",
        "        \n",
        "        game_over = False\n",
        "\n",
        "        win = 0\n",
        "        lose = 0\n",
        "        agent.set_epsilon(agent.epsilon*(1-decay_parameter_epsilon))\n",
        "        while not game_over:\n",
        "            # The agent performs an action\n",
        "            action = agent.act(state)\n",
        "\n",
        "            # Apply an action to the environment, get the next state, the reward\n",
        "            # and if the games end\n",
        "            prev_state = state\n",
        "            state, reward, game_over = env.act(action, train=True)\n",
        "\n",
        "            # Update\n",
        "            if reward > 0:\n",
        "                win += reward\n",
        "            if reward < 0:\n",
        "                lose -= reward\n",
        "\n",
        "            # reinforce\n",
        "            loss = agent.reinforce(prev_state, state,  action, reward, game_over)\n",
        "\n",
        "        # Save as a mp4\n",
        "        if e % 10 == 0:\n",
        "            env.draw(prefix+str(e))\n",
        "\n",
        "        # Update stats\n",
        "        score += win-lose\n",
        "\n",
        "        print(\"Epoch {:03d}/{:03d} | Loss {:.4f} | Win/lose count {}/{} ({})\"\n",
        "              .format(e, epoch, loss, win, lose, win-lose))\n",
        "        agent.save(name_weights=prefix+'model.h5',name_model=prefix+'model.json')\n",
        "        \n",
        "class EnvironmentExploring(object):\n",
        "    def __init__(self, grid_size=10, max_time=500, temperature=0.1):\n",
        "        grid_size = grid_size+4\n",
        "        self.grid_size = grid_size\n",
        "        self.max_time = max_time\n",
        "        self.temperature = temperature\n",
        "\n",
        "        # board on which one plays\n",
        "        self.board = np.zeros((grid_size,grid_size))\n",
        "        self.position = np.zeros((grid_size,grid_size))\n",
        "        self.malus_position = np.zeros((grid_size,grid_size)) # define maluses to get rid-off the back-and-forth behavior we have seen so far\n",
        "        # coordinate of the agent\n",
        "        self.x = 0\n",
        "        self.y = 1\n",
        "\n",
        "        self.t = 0\n",
        "\n",
        "        self.scale = 16\n",
        "\n",
        "        self.to_draw = np.zeros((max_time+2, grid_size*self.scale, grid_size*self.scale, 3))\n",
        "\n",
        "\n",
        "    def draw(self,e):\n",
        "        skvideo.io.vwrite(str(e) + '.mp4', self.to_draw)\n",
        "\n",
        "    def get_frame(self,t):\n",
        "        b = np.zeros((self.grid_size,self.grid_size,3))+128\n",
        "        b[self.board>0,0] = 256\n",
        "        b[self.board < 0, 2] = 256\n",
        "        b[self.x,self.y,:]=256\n",
        "        b[-2:,:,:]=0\n",
        "        b[:,-2:,:]=0\n",
        "        b[:2,:,:]=0\n",
        "        b[:,:2,:]=0\n",
        "        \n",
        "        b =  cv2.resize(b, None, fx=self.scale, fy=self.scale, interpolation=cv2.INTER_NEAREST)\n",
        "\n",
        "        self.to_draw[t,:,:,:]=b\n",
        "\n",
        "\n",
        "    def act(self, action,train=False):\n",
        "        self.get_frame(int(self.t))\n",
        "\n",
        "        self.position = np.zeros((self.grid_size, self.grid_size))\n",
        "        self.position[0:2,:]= -1\n",
        "        self.position[:,0:2] = -1\n",
        "        self.position[-2:, :] = -1\n",
        "        self.position[:, -2:] = -1\n",
        "\n",
        "        self.position[self.x, self.y] = 1\n",
        "        if action == 0:\n",
        "            if self.x == self.grid_size-3:\n",
        "                self.x = self.x-1\n",
        "            else:\n",
        "                self.x = self.x + 1\n",
        "        elif action == 1:\n",
        "            if self.x == 2:\n",
        "                self.x = self.x+1\n",
        "            else:\n",
        "                self.x = self.x-1\n",
        "        elif action == 2:\n",
        "            if self.y == self.grid_size - 3:\n",
        "                self.y = self.y - 1\n",
        "            else:\n",
        "                self.y = self.y + 1\n",
        "        elif action == 3:\n",
        "            if self.y == 2:\n",
        "                self.y = self.y + 1\n",
        "            else:\n",
        "                self.y = self.y - 1\n",
        "        else:\n",
        "            RuntimeError('Error: not an action')\n",
        "\n",
        "        self.t = self.t + 1     \n",
        "        \n",
        "        reward = 0\n",
        "        if train:\n",
        "            reward = -self.malus_position[self.x, self.y]\n",
        "        self.malus_position[self.x, self.y] = 0.1\n",
        "\n",
        "        reward = reward + self.board[self.x, self.y]\n",
        "        self.board[self.x, self.y] = 0\n",
        "        game_over = self.t > self.max_time\n",
        "        \n",
        "        state = np.concatenate((self.malus_position.reshape(self.grid_size, self.grid_size,1),\n",
        "                                        self.board.reshape(self.grid_size, self.grid_size,1),\n",
        "                                self.position.reshape(self.grid_size, self.grid_size,1)),axis=2)\n",
        "        state = state[self.x-2:self.x+3,self.y-2:self.y+3,:]\n",
        "\n",
        "        return state, reward, game_over\n",
        "\n",
        "    def reset(self):\n",
        "        self.x = np.random.randint(3, self.grid_size-3, size=1)[0]\n",
        "        self.y = np.random.randint(3, self.grid_size-3, size=1)[0]\n",
        "\n",
        "        bonus = 0.5*np.random.binomial(1,self.temperature,size=self.grid_size**2)\n",
        "        bonus = bonus.reshape(self.grid_size,self.grid_size)\n",
        "\n",
        "        malus = -1.0*np.random.binomial(1,self.temperature,size=self.grid_size**2)\n",
        "        malus = malus.reshape(self.grid_size, self.grid_size)\n",
        "\n",
        "        self.to_draw = np.zeros((self.max_time+2, self.grid_size*self.scale, self.grid_size*self.scale, 3))\n",
        "\n",
        "\n",
        "        malus[bonus>0]=0\n",
        "\n",
        "        self.board = bonus + malus\n",
        "\n",
        "        self.position = np.zeros((self.grid_size, self.grid_size))\n",
        "        self.position[0:2,:]= -1\n",
        "        self.position[:,0:2] = -1\n",
        "        self.position[-2:, :] = -1\n",
        "        self.position[:,-2:] = -1\n",
        "        self.board[self.x,self.y] = 0\n",
        "        self.t = 0\n",
        "\n",
        "        self.malus_position = np.zeros((self.grid_size, self.grid_size))\n",
        "        \n",
        "        state = np.concatenate((self.malus_position.reshape(self.grid_size, self.grid_size,1),\n",
        "                                        self.board.reshape(self.grid_size, self.grid_size,1),\n",
        "                                self.position.reshape(self.grid_size, self.grid_size,1)),axis=2)\n",
        "\n",
        "        state = state[self.x - 2:self.x + 3, self.y - 2:self.y + 3, :]\n",
        "        return state\n"
      ],
      "execution_count": 0,
      "outputs": []
    },
    {
      "cell_type": "code",
      "metadata": {
        "id": "HCBSmZSUV3-I",
        "colab_type": "code",
        "colab": {
          "base_uri": "https://localhost:8080/",
          "height": 1000
        },
        "outputId": "b02c06fd-a53f-4b4d-b21b-be127bdca2fe"
      },
      "source": [
        "epochs_train = 50\n",
        "env = EnvironmentExploring(grid_size=size, max_time=T, temperature=0.3)\n",
        "agent = DQN_CNN(size, lr=.1, epsilon =0.6, memory_size=2000, batch_size = 32,n_state=3)\n",
        "train_explore(agent, env, epochs_train,decay_parameter_epsilon=0.1, prefix='cnn_train_explore')\n",
        "HTML(display_videos('cnn_train_explore10.mp4'))"
      ],
      "execution_count": 21,
      "outputs": [
        {
          "output_type": "stream",
          "text": [
            "Epoch 000/050 | Loss 0.0194 | Win/lose count 10.5/30.000000000000117 (-19.500000000000117)\n",
            "Epoch 001/050 | Loss 0.0094 | Win/lose count 8.5/20.600000000000037 (-12.100000000000037)\n",
            "Epoch 002/050 | Loss 0.0299 | Win/lose count 15.0/24.100000000000048 (-9.100000000000048)\n",
            "Epoch 003/050 | Loss 0.0104 | Win/lose count 16.0/18.599999999999994 (-2.5999999999999943)\n",
            "Epoch 004/050 | Loss 0.0062 | Win/lose count 15.5/16.599999999999977 (-1.0999999999999766)\n",
            "Epoch 005/050 | Loss 0.0492 | Win/lose count 15.0/18.699999999999974 (-3.6999999999999744)\n",
            "Epoch 006/050 | Loss 0.0050 | Win/lose count 14.5/19.600000000000023 (-5.100000000000023)\n",
            "Epoch 007/050 | Loss 0.0095 | Win/lose count 20.5/17.19999999999999 (3.3000000000000114)\n",
            "Epoch 008/050 | Loss 0.0905 | Win/lose count 17.0/15.399999999999965 (1.6000000000000352)\n",
            "Epoch 009/050 | Loss 0.0379 | Win/lose count 14.5/21.000000000000046 (-6.500000000000046)\n",
            "Epoch 010/050 | Loss 0.0130 | Win/lose count 16.0/17.49999999999998 (-1.4999999999999787)\n",
            "Epoch 011/050 | Loss 0.0111 | Win/lose count 20.0/16.799999999999983 (3.200000000000017)\n",
            "Epoch 012/050 | Loss 0.0090 | Win/lose count 18.0/21.799999999999994 (-3.7999999999999936)\n",
            "Epoch 013/050 | Loss 0.0065 | Win/lose count 14.0/17.399999999999988 (-3.399999999999988)\n",
            "Epoch 014/050 | Loss 0.0173 | Win/lose count 23.0/15.799999999999967 (7.200000000000033)\n",
            "Epoch 015/050 | Loss 0.0114 | Win/lose count 25.0/12.399999999999972 (12.600000000000028)\n",
            "Epoch 016/050 | Loss 0.0072 | Win/lose count 25.0/14.099999999999973 (10.900000000000027)\n",
            "Epoch 017/050 | Loss 0.0236 | Win/lose count 23.5/14.099999999999977 (9.400000000000023)\n",
            "Epoch 018/050 | Loss 0.0067 | Win/lose count 12.0/16.999999999999982 (-4.999999999999982)\n",
            "Epoch 019/050 | Loss 0.0073 | Win/lose count 30.0/12.299999999999978 (17.700000000000024)\n",
            "Epoch 020/050 | Loss 0.0079 | Win/lose count 22.0/12.599999999999978 (9.400000000000022)\n",
            "Epoch 021/050 | Loss 0.0327 | Win/lose count 26.0/14.799999999999972 (11.200000000000028)\n",
            "Epoch 022/050 | Loss 0.0085 | Win/lose count 21.5/11.799999999999974 (9.700000000000026)\n",
            "Epoch 023/050 | Loss 0.0065 | Win/lose count 27.5/13.799999999999974 (13.700000000000026)\n",
            "Epoch 024/050 | Loss 0.0053 | Win/lose count 28.5/11.799999999999978 (16.700000000000024)\n",
            "Epoch 025/050 | Loss 0.0064 | Win/lose count 17.5/14.899999999999967 (2.6000000000000334)\n",
            "Epoch 026/050 | Loss 0.0139 | Win/lose count 19.5/12.699999999999974 (6.800000000000026)\n",
            "Epoch 027/050 | Loss 0.0327 | Win/lose count 21.0/10.599999999999978 (10.400000000000022)\n",
            "Epoch 028/050 | Loss 0.0226 | Win/lose count 23.5/12.499999999999975 (11.000000000000025)\n",
            "Epoch 029/050 | Loss 0.0274 | Win/lose count 22.0/11.999999999999975 (10.000000000000025)\n",
            "Epoch 030/050 | Loss 0.0099 | Win/lose count 22.0/8.699999999999985 (13.300000000000015)\n",
            "Epoch 031/050 | Loss 0.0074 | Win/lose count 20.5/11.999999999999972 (8.500000000000028)\n",
            "Epoch 032/050 | Loss 0.0148 | Win/lose count 23.0/11.699999999999982 (11.300000000000018)\n",
            "Epoch 033/050 | Loss 0.0093 | Win/lose count 27.0/9.199999999999987 (17.80000000000001)\n",
            "Epoch 034/050 | Loss 0.0065 | Win/lose count 28.5/12.199999999999973 (16.300000000000026)\n",
            "Epoch 035/050 | Loss 0.0099 | Win/lose count 23.5/9.099999999999984 (14.400000000000016)\n",
            "Epoch 036/050 | Loss 0.0112 | Win/lose count 27.5/9.399999999999986 (18.100000000000016)\n",
            "Epoch 037/050 | Loss 0.0101 | Win/lose count 24.0/13.899999999999974 (10.100000000000026)\n",
            "Epoch 038/050 | Loss 0.0391 | Win/lose count 10.0/16.999999999999975 (-6.999999999999975)\n",
            "Epoch 039/050 | Loss 0.0238 | Win/lose count 5.5/19.000000000000007 (-13.500000000000007)\n",
            "Epoch 040/050 | Loss 0.0186 | Win/lose count 16.0/12.99999999999997 (3.00000000000003)\n",
            "Epoch 041/050 | Loss 0.0062 | Win/lose count 18.0/13.09999999999997 (4.9000000000000306)\n",
            "Epoch 042/050 | Loss 0.0138 | Win/lose count 22.0/15.09999999999997 (6.9000000000000306)\n",
            "Epoch 043/050 | Loss 0.0088 | Win/lose count 21.5/9.89999999999998 (11.60000000000002)\n",
            "Epoch 044/050 | Loss 0.0090 | Win/lose count 26.0/13.499999999999973 (12.500000000000027)\n",
            "Epoch 045/050 | Loss 0.0160 | Win/lose count 23.5/12.499999999999972 (11.000000000000028)\n",
            "Epoch 046/050 | Loss 0.0101 | Win/lose count 24.5/8.899999999999984 (15.600000000000016)\n",
            "Epoch 047/050 | Loss 0.0201 | Win/lose count 24.5/10.99999999999998 (13.50000000000002)\n",
            "Epoch 048/050 | Loss 0.0137 | Win/lose count 26.0/11.89999999999998 (14.10000000000002)\n",
            "Epoch 049/050 | Loss 0.0163 | Win/lose count 24.0/10.799999999999978 (13.200000000000022)\n"
          ],
          "name": "stdout"
        },
        {
          "output_type": "execute_result",
          "data": {
            "text/html": [
              "<video alt=\"test\" controls>\n",
              "                <source src=\"data:video/mp4;base64,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\" type=\"video/mp4\" />\n",
              "             </video>"
            ],
            "text/plain": [
              "<IPython.core.display.HTML object>"
            ]
          },
          "metadata": {
            "tags": []
          },
          "execution_count": 21
        }
      ]
    },
    {
      "cell_type": "code",
      "metadata": {
        "id": "hSquMYwoV3-K",
        "colab_type": "code",
        "colab": {
          "base_uri": "https://localhost:8080/",
          "height": 497
        },
        "outputId": "84bab334-4502-49ee-b965-e6012bb8c0c9"
      },
      "source": [
        "test(agent,env,epochs_test,prefix='cnn_test_explore')\n",
        "HTML(display_videos('cnn_test_explore10.mp4'))"
      ],
      "execution_count": 22,
      "outputs": [
        {
          "output_type": "stream",
          "text": [
            "Win/lose count 20.5/3.0. Average score (17.5)\n",
            "Win/lose count 27.5/3.0. Average score (21.0)\n",
            "Win/lose count 20.0/2.0. Average score (20.0)\n",
            "Win/lose count 22.0/5.0. Average score (19.25)\n",
            "Win/lose count 25.5/1.0. Average score (20.3)\n",
            "Win/lose count 22.5/3.0. Average score (20.166666666666668)\n",
            "Win/lose count 25.0/4.0. Average score (20.285714285714285)\n",
            "Win/lose count 22.5/3.0. Average score (20.1875)\n",
            "Win/lose count 20.5/1.0. Average score (20.11111111111111)\n",
            "Win/lose count 23.0/3.0. Average score (20.1)\n",
            "Win/lose count 24.0/3.0. Average score (20.181818181818183)\n",
            "Final score: 20.181818181818183\n"
          ],
          "name": "stdout"
        },
        {
          "output_type": "execute_result",
          "data": {
            "text/html": [
              "<video alt=\"test\" controls>\n",
              "                <source src=\"data:video/mp4;base64,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\" type=\"video/mp4\" />\n",
              "             </video>"
            ],
            "text/plain": [
              "<IPython.core.display.HTML object>"
            ]
          },
          "metadata": {
            "tags": []
          },
          "execution_count": 22
        }
      ]
    },
    {
      "cell_type": "markdown",
      "metadata": {
        "id": "r7YskUO9V3-M",
        "colab_type": "text"
      },
      "source": [
        "There are multiple ways to incorporate a decreasing epsilon-greedy exploration. For example, we can make epsilon decrease over epochs. For this exercice, we decided to make epsilon decrease over trajectories, by multiplying it with a certain decay rate (we chose 0.8) over time steps. Note that, contrarily to the previous training where epsilon was set to 0.1, we decided to set the initial epsilon to 0.9. With a temperature of 0.3, the results on training did not really improved, but we obtained much better results on testing. Indeed, the scores are about 18, which is very high !"
      ]
    },
    {
      "cell_type": "markdown",
      "metadata": {
        "id": "GJBQqmeIV3-M",
        "colab_type": "text"
      },
      "source": [
        "***\n",
        "***\n",
        "__BONUS question__ Use the expert DQN from the previous question to generate some winning games. Train a model that mimicks its behavior. Compare the performances."
      ]
    },
    {
      "cell_type": "markdown",
      "metadata": {
        "id": "2EdxkgPXR9ce",
        "colab_type": "text"
      },
      "source": [
        "Below an implementation of an agent that mimicks an expert. We obtain very good performances during the training, but mimicking an expert does not lead to being an expert ! Indeed, the scores reached by the mimicking agent are lower than those of the expert. This can be explained by the fact that the expert can create and apply new strategies to solve issues it has never met before, whereas the mimicking agent will never \"innovate\" and its knowledge is necessarily inferior to the knowledge of the expert."
      ]
    },
    {
      "cell_type": "code",
      "metadata": {
        "id": "iTda8-yZV3-N",
        "colab_type": "code",
        "colab": {}
      },
      "source": [
        "class DQN_Mim(Agent):\n",
        "    def __init__(self, grid_size,  epsilon = 0.1, memory_size=100, batch_size = 16,n_state=2):\n",
        "        super(DQN_Mim, self).__init__(epsilon = epsilon)\n",
        "\n",
        "        # Discount for Q learning\n",
        "        self.discount = 0.99\n",
        "        \n",
        "        self.grid_size = grid_size\n",
        "        \n",
        "        # number of state\n",
        "        self.n_state = n_state\n",
        "\n",
        "        # Memory\n",
        "        self.memory = Memory(memory_size)\n",
        "        \n",
        "        # Batch size when learning\n",
        "        self.batch_size = batch_size\n",
        "\n",
        "    def learned_act(self, s):\n",
        "        return np.argmax(self.model.predict(s.reshape([1,s.shape[0],s.shape[1],s.shape[2]]))[0,:])\n",
        "\n",
        "    def reinforce(self, s_, a_):\n",
        "        # Two steps: first memorize the states, second learn from the pool\n",
        "        self.memory.remember([s_[:,:,1:], a_]) #now our model dirctly copy what the expert has done \n",
        "        #therefore we juste need the current state and the action that has been applied\n",
        "        input_states = np.zeros((self.batch_size, 5,5,self.n_state))\n",
        "        target_q = np.zeros((self.batch_size, 4))\n",
        "        \n",
        "        for i in range(self.batch_size):\n",
        "            s_, a_ = self.memory.random_access()\n",
        "            input_states[i] = s_\n",
        "            target_q[i,a_] = 5  # mimick the expert\n",
        "            \n",
        "        l = self.model.train_on_batch(input_states, target_q)\n",
        "\n",
        "\n",
        "        return l\n",
        "\n",
        "    def save(self,name_weights='model.h5',name_model='model.json'):\n",
        "        self.model.save_weights(name_weights, overwrite=True)\n",
        "        with open(name_model, \"w\") as outfile:\n",
        "            json.dump(self.model.to_json(), outfile)\n",
        "            \n",
        "    def load(self,name_weights='model.h5',name_model='model.json'):\n",
        "        with open(name_model, \"r\") as jfile:\n",
        "            model = model_from_json(json.load(jfile))\n",
        "        model.load_weights(name_weights)\n",
        "        model.compile(\"sgd\", \"mse\")\n",
        "        self.model = model\n",
        "            \n",
        "class DQN_CNN_Mim(DQN_Mim):\n",
        "    def __init__(self, *args,lr=0.1,**kwargs):\n",
        "        super(DQN_CNN_Mim, self).__init__(*args,**kwargs)\n",
        "        \n",
        "        model = Sequential()\n",
        "        model.add(Conv2D(64,(2,2),input_shape=(5,5,self.n_state,),activation='relu')) \n",
        "        model.add(Conv2D(32,(2,2),activation='relu')) \n",
        "        model.add(Flatten())\n",
        "        model.add(Dense(4))\n",
        "        model.compile(sgd(lr=lr, decay=1e-4, momentum=0.0), \"mse\")\n",
        "        self.model = model"
      ],
      "execution_count": 0,
      "outputs": []
    },
    {
      "cell_type": "code",
      "metadata": {
        "id": "rT_XovqjV3-O",
        "colab_type": "code",
        "colab": {}
      },
      "source": [
        "def train_mimick(expert,agent,env,epoch,prefix=''):\n",
        "    # Number of won games\n",
        "    score = 0\n",
        "    loss = 0    \n",
        "    \n",
        "    for e in range(epoch):\n",
        "        # At each epoch, we restart to a fresh game and get the initial state\n",
        "        state = env.reset()\n",
        "        # This assumes that the games will terminate\n",
        "        game_over = False\n",
        "\n",
        "        win = 0\n",
        "        lose = 0\n",
        "        while not game_over:\n",
        "            # The agent performs an action\n",
        "            action = expert.act(state,train=False)\n",
        "\n",
        "            # Apply an action to the environment, get the next state, the reward\n",
        "            # and if the games end\n",
        "            prev_state = state\n",
        "            state, reward, game_over = env.act(action)\n",
        "\n",
        "            # Update the counters\n",
        "            if reward > 0:\n",
        "                win = win + reward\n",
        "            if reward < 0:\n",
        "                lose = lose -reward\n",
        "\n",
        "            # Apply the reinforcement strategy\n",
        "            loss = agent.reinforce(prev_state,  action)\n",
        "\n",
        "        # Save as a mp4\n",
        "        if e % 10 == 0:\n",
        "            env.draw(prefix+str(e))\n",
        "\n",
        "        # Update stats\n",
        "        score += win-lose\n",
        "\n",
        "        print(\"Epoch {:03d}/{:03d} | Loss {:.4f} | Win/lose count {}/{} ({})\"\n",
        "              .format(e, epoch, loss, win, lose, win-lose))\n",
        "        agent.save(name_weights=prefix+'model.h5',name_model=prefix+'model.json')"
      ],
      "execution_count": 0,
      "outputs": []
    },
    {
      "cell_type": "code",
      "metadata": {
        "id": "V4opjmvoV3-Q",
        "colab_type": "code",
        "colab": {
          "base_uri": "https://localhost:8080/",
          "height": 867
        },
        "outputId": "d98300f4-a68f-41ca-9231-ce5124b452f0"
      },
      "source": [
        "epochs_train = 50\n",
        "expert = agent\n",
        "agent_n = DQN_CNN_Mim(size, lr=.1, epsilon = 0.1, memory_size=2000, batch_size = 32,n_state=2)\n",
        "env = EnvironmentExploring(grid_size=size, max_time=T, temperature=0.3)\n",
        "train_mimick(expert,agent_n, env, epochs_train, prefix='cnn_train_mimick')"
      ],
      "execution_count": 25,
      "outputs": [
        {
          "output_type": "stream",
          "text": [
            "Epoch 000/050 | Loss 1.1726 | Win/lose count 27.5/1.0 (26.5)\n",
            "Epoch 001/050 | Loss 1.4660 | Win/lose count 23.5/1.0 (22.5)\n",
            "Epoch 002/050 | Loss 1.9936 | Win/lose count 22.0/3.0 (19.0)\n",
            "Epoch 003/050 | Loss 1.9727 | Win/lose count 19.5/2.0 (17.5)\n",
            "Epoch 004/050 | Loss 1.6824 | Win/lose count 24.5/3.0 (21.5)\n",
            "Epoch 005/050 | Loss 1.0875 | Win/lose count 20.5/2.0 (18.5)\n",
            "Epoch 006/050 | Loss 1.3968 | Win/lose count 23.5/1.0 (22.5)\n",
            "Epoch 007/050 | Loss 1.1951 | Win/lose count 23.5/3.0 (20.5)\n",
            "Epoch 008/050 | Loss 1.3048 | Win/lose count 26.0/3.0 (23.0)\n",
            "Epoch 009/050 | Loss 1.1559 | Win/lose count 21.5/1.0 (20.5)\n",
            "Epoch 010/050 | Loss 1.5166 | Win/lose count 22.0/3.0 (19.0)\n",
            "Epoch 011/050 | Loss 0.9529 | Win/lose count 24.0/2.0 (22.0)\n",
            "Epoch 012/050 | Loss 1.6256 | Win/lose count 24.5/5.0 (19.5)\n",
            "Epoch 013/050 | Loss 1.3892 | Win/lose count 12.5/2.0 (10.5)\n",
            "Epoch 014/050 | Loss 1.0913 | Win/lose count 23.0/2.0 (21.0)\n",
            "Epoch 015/050 | Loss 1.9219 | Win/lose count 22.0/2.0 (20.0)\n",
            "Epoch 016/050 | Loss 1.4467 | Win/lose count 26.0/1.0 (25.0)\n",
            "Epoch 017/050 | Loss 1.2044 | Win/lose count 19.0/6.0 (13.0)\n",
            "Epoch 018/050 | Loss 1.6667 | Win/lose count 20.5/1.0 (19.5)\n",
            "Epoch 019/050 | Loss 1.5632 | Win/lose count 15.5/1.0 (14.5)\n",
            "Epoch 020/050 | Loss 1.0345 | Win/lose count 23.5/2.0 (21.5)\n",
            "Epoch 021/050 | Loss 1.0372 | Win/lose count 16.5/2.0 (14.5)\n",
            "Epoch 022/050 | Loss 1.4566 | Win/lose count 21.5/3.0 (18.5)\n",
            "Epoch 023/050 | Loss 1.2826 | Win/lose count 27.5/2.0 (25.5)\n",
            "Epoch 024/050 | Loss 1.1972 | Win/lose count 14.5/1.0 (13.5)\n",
            "Epoch 025/050 | Loss 1.2501 | Win/lose count 24.5/0 (24.5)\n",
            "Epoch 026/050 | Loss 1.0196 | Win/lose count 16.0/2.0 (14.0)\n",
            "Epoch 027/050 | Loss 0.9404 | Win/lose count 20.0/4.0 (16.0)\n",
            "Epoch 028/050 | Loss 1.0831 | Win/lose count 17.5/1.0 (16.5)\n",
            "Epoch 029/050 | Loss 0.3652 | Win/lose count 11.0/0 (11.0)\n",
            "Epoch 030/050 | Loss 1.0931 | Win/lose count 19.5/3.0 (16.5)\n",
            "Epoch 031/050 | Loss 0.9490 | Win/lose count 25.5/2.0 (23.5)\n",
            "Epoch 032/050 | Loss 0.9097 | Win/lose count 24.5/3.0 (21.5)\n",
            "Epoch 033/050 | Loss 1.0000 | Win/lose count 24.5/1.0 (23.5)\n",
            "Epoch 034/050 | Loss 1.3306 | Win/lose count 21.5/3.0 (18.5)\n",
            "Epoch 035/050 | Loss 0.9662 | Win/lose count 15.0/4.0 (11.0)\n",
            "Epoch 036/050 | Loss 1.6099 | Win/lose count 19.5/3.0 (16.5)\n",
            "Epoch 037/050 | Loss 0.8107 | Win/lose count 18.0/2.0 (16.0)\n",
            "Epoch 038/050 | Loss 0.9974 | Win/lose count 19.0/2.0 (17.0)\n",
            "Epoch 039/050 | Loss 1.0807 | Win/lose count 13.5/1.0 (12.5)\n",
            "Epoch 040/050 | Loss 1.1254 | Win/lose count 24.0/4.0 (20.0)\n",
            "Epoch 041/050 | Loss 1.0480 | Win/lose count 23.0/2.0 (21.0)\n",
            "Epoch 042/050 | Loss 1.1827 | Win/lose count 10.0/1.0 (9.0)\n",
            "Epoch 043/050 | Loss 1.0372 | Win/lose count 23.5/2.0 (21.5)\n",
            "Epoch 044/050 | Loss 0.8859 | Win/lose count 22.5/1.0 (21.5)\n",
            "Epoch 045/050 | Loss 0.5494 | Win/lose count 17.0/0 (17.0)\n",
            "Epoch 046/050 | Loss 0.5055 | Win/lose count 10.0/0 (10.0)\n",
            "Epoch 047/050 | Loss 0.9502 | Win/lose count 24.5/0 (24.5)\n",
            "Epoch 048/050 | Loss 1.1292 | Win/lose count 19.0/2.0 (17.0)\n",
            "Epoch 049/050 | Loss 1.3753 | Win/lose count 22.5/0 (22.5)\n"
          ],
          "name": "stdout"
        }
      ]
    },
    {
      "cell_type": "code",
      "metadata": {
        "id": "dOG2BkFDV3-T",
        "colab_type": "code",
        "colab": {
          "base_uri": "https://localhost:8080/",
          "height": 221
        },
        "outputId": "396a6d8e-3bc9-4fc7-bcdd-b1f5d72fed8e"
      },
      "source": [
        "env_test = Environment(grid_size=size, max_time=T,temperature=0.3)\n",
        "test(agent_n,env_test,epochs_test,prefix='cnn_test_mimick')"
      ],
      "execution_count": 26,
      "outputs": [
        {
          "output_type": "stream",
          "text": [
            "Win/lose count 17.5/4.0. Average score (13.5)\n",
            "Win/lose count 9.5/1.0. Average score (11.0)\n",
            "Win/lose count 14.0/2.0. Average score (11.333333333333334)\n",
            "Win/lose count 17.5/3.0. Average score (12.125)\n",
            "Win/lose count 16.5/3.0. Average score (12.4)\n",
            "Win/lose count 13.5/0. Average score (12.583333333333334)\n",
            "Win/lose count 3.0/0. Average score (11.214285714285714)\n",
            "Win/lose count 14.5/0. Average score (11.625)\n",
            "Win/lose count 8.0/1.0. Average score (11.11111111111111)\n",
            "Win/lose count 16.0/2.0. Average score (11.4)\n",
            "Win/lose count 22.0/4.0. Average score (12.0)\n",
            "Final score: 12.0\n"
          ],
          "name": "stdout"
        }
      ]
    },
    {
      "cell_type": "code",
      "metadata": {
        "id": "CcrMNNd9V3-U",
        "colab_type": "code",
        "colab": {
          "base_uri": "https://localhost:8080/",
          "height": 293
        },
        "outputId": "1b473c1b-ad74-4881-b21f-cfcd5fb7d713"
      },
      "source": [
        "HTML(display_videos('cnn_test_mimick10.mp4'))"
      ],
      "execution_count": 27,
      "outputs": [
        {
          "output_type": "execute_result",
          "data": {
            "text/html": [
              "<video alt=\"test\" controls>\n",
              "                <source src=\"data:video/mp4;base64,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\" type=\"video/mp4\" />\n",
              "             </video>"
            ],
            "text/plain": [
              "<IPython.core.display.HTML object>"
            ]
          },
          "metadata": {
            "tags": []
          },
          "execution_count": 27
        }
      ]
    },
    {
      "cell_type": "markdown",
      "metadata": {
        "id": "aKRDakbYZiMA",
        "colab_type": "text"
      },
      "source": [
        "The fact that mimicking an expert doesn't mean being an expert can be seen during the test phase (it highly depends on the experiment). Indeed, if good results were obtained during the training, this agent is not able to generalize its knowledge and is sometimes lost during the test phase."
      ]
    },
    {
      "cell_type": "code",
      "metadata": {
        "id": "tKtL8r8lyg7E",
        "colab_type": "code",
        "colab": {}
      },
      "source": [
        ""
      ],
      "execution_count": 0,
      "outputs": []
    }
  ]
}